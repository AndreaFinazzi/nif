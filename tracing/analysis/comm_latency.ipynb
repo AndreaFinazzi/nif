{
 "cells": [
  {
   "cell_type": "code",
   "execution_count": null,
   "metadata": {},
   "outputs": [],
   "source": [
    "import numpy as np"
   ]
  },
  {
   "cell_type": "code",
   "execution_count": null,
   "metadata": {},
   "outputs": [],
   "source": [
    "from tracetools_analysis.ros_model import ApplicationFactory"
   ]
  },
  {
   "cell_type": "code",
   "execution_count": null,
   "metadata": {},
   "outputs": [],
   "source": [
    "trace_path = '~/.ros/tracing/e2e_demo/ust'\n",
    "# architecture_path = './architecture.json.template'\n",
    "architecture_path = './architecture.json'"
   ]
  },
  {
   "cell_type": "code",
   "execution_count": null,
   "metadata": {},
   "outputs": [],
   "source": [
    "app = ApplicationFactory.create_from_json(architecture_path)"
   ]
  },
  {
   "cell_type": "code",
   "execution_count": null,
   "metadata": {},
   "outputs": [],
   "source": [
    "app.import_trace(trace_path, start_transition_ms=1000, end_transition_ms=1000)"
   ]
  },
  {
   "cell_type": "code",
   "execution_count": null,
   "metadata": {},
   "outputs": [],
   "source": [
    "list(app.comms)"
   ]
  },
  {
   "cell_type": "code",
   "execution_count": null,
   "metadata": {},
   "outputs": [],
   "source": [
    "# node and comm\n",
    "comm = app.comms[1]\n",
    "dds = comm.child[0]"
   ]
  },
  {
   "cell_type": "code",
   "execution_count": null,
   "metadata": {},
   "outputs": [],
   "source": [
    "comm.name"
   ]
  },
  {
   "cell_type": "code",
   "execution_count": null,
   "metadata": {},
   "outputs": [],
   "source": [
    "import matplotlib.pyplot as plt"
   ]
  },
  {
   "cell_type": "code",
   "execution_count": null,
   "metadata": {},
   "outputs": [],
   "source": [
    "def label(path):\n",
    "    return 'max: {} ms, {}'.format(path.max_ms, path.name)"
   ]
  },
  {
   "cell_type": "code",
   "execution_count": null,
   "metadata": {},
   "outputs": [],
   "source": [
    "comm.get_stats()"
   ]
  },
  {
   "cell_type": "code",
   "execution_count": null,
   "metadata": {},
   "outputs": [],
   "source": [
    "dds.get_stats()"
   ]
  },
  {
   "cell_type": "code",
   "execution_count": null,
   "metadata": {},
   "outputs": [],
   "source": [
    "latency_ms, hist = comm.hist(binsize_ns=100000).get_xy()\n",
    "max_ms = comm.get_stats()['max']\n",
    "plt.step(latency_ms, hist, label='max: {:0.1f} ms'.format(max_ms), where='post')\n",
    "\n",
    "latency_ms, hist = dds.hist(binsize_ns=100000).get_xy()\n",
    "max_ms = dds.get_stats()['max']\n",
    "plt.step(latency_ms, hist, label='max: {:0.1f} ms'.format(max_ms), where='post')\n",
    "\n",
    "plt.legend()\n",
    "plt.title(comm.name)\n",
    "plt.xlabel('Latency [ms]')\n",
    "plt.ylabel('Probability')"
   ]
  },
  {
   "cell_type": "code",
   "execution_count": null,
   "metadata": {},
   "outputs": [],
   "source": [
    "system_time_ns, latency_ns = comm.timeseries.get_xy()\n",
    "time = (system_time_ns - system_time_ns[0]) * 1.0e-9\n",
    "latency_ms = latency_ns * 1.0e-6\n",
    "max_ms = comm.get_stats()['max']\n",
    "plt.step(time, latency_ms, label='max: {:.1f} ms'.format(max_ms), where='post')\n",
    "\n",
    "system_time_ns, latency_ns = dds.timeseries.get_xy()\n",
    "time = (system_time_ns - system_time_ns[0]) * 1.0e-9\n",
    "latency_ms = latency_ns * 1.0e-6\n",
    "max_ms = dds.get_stats()['max']\n",
    "plt.step(time, latency_ms, label='max: {:.1f} ms'.format(max_ms), where='post')\n",
    "\n",
    "plt.legend()\n",
    "plt.xlabel('Time ]s')\n",
    "plt.ylabel('Latency [ms]')"
   ]
  }
 ],
 "metadata": {
  "kernelspec": {
   "display_name": "Python 3",
   "language": "python",
   "name": "python3"
  },
  "language_info": {
   "codemirror_mode": {
    "name": "ipython",
    "version": 3
   },
   "file_extension": ".py",
   "mimetype": "text/x-python",
   "name": "python",
   "nbconvert_exporter": "python",
   "pygments_lexer": "ipython3",
   "version": "3.8.5"
  }
 },
 "nbformat": 4,
 "nbformat_minor": 4
}

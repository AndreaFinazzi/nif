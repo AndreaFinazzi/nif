{
 "cells": [
  {
   "cell_type": "code",
   "execution_count": null,
   "metadata": {},
   "outputs": [],
   "source": [
    "trace_path = '~/.ros/tracing/e2e_demo/ust'\n",
    "architecture_path = './architecture.json'\n",
    "architecture_path_template = './architecture.json.template'\n",
    "input_yaml = './input.yaml'\n",
    "export_dir = '.'\n",
    "graph_png = './tmp.png'"
   ]
  },
  {
   "cell_type": "code",
   "execution_count": null,
   "metadata": {},
   "outputs": [],
   "source": [
    "!echo $ trace_list_target $architecture_path\n",
    "!trace_list_target $architecture_path"
   ]
  },
  {
   "cell_type": "code",
   "execution_count": null,
   "metadata": {},
   "outputs": [],
   "source": [
    "!echo $ trace_analysis $input_yaml $export_dir $trace_path $architecture_path\n",
    "!trace_analysis $input_yaml $export_dir $trace_path $architecture_path"
   ]
  },
  {
   "cell_type": "code",
   "execution_count": null,
   "metadata": {},
   "outputs": [],
   "source": [
    "!echo $ trace_collapse $export_dir $trace_path $architecture_path\n",
    "!trace_collapse $export_dir $trace_path $architecture_path\n",
    "\n",
    "! find . -name \"*.log\"  \\\n",
    "  | xargs -I@ sh -c 'flamegraph.pl @ --countname ms > $(dirname @)/$(basename @ _collapsed.log).svg'"
   ]
  },
  {
   "cell_type": "code",
   "execution_count": null,
   "metadata": {},
   "outputs": [],
   "source": [
    "# !trace_create_template $trace_path $architecture_path\n",
    "\n",
    "! echo trace_create_template $trace_path $architecture_path_template\n",
    "!trace_create_template $trace_path $architecture_path_template"
   ]
  },
  {
   "cell_type": "code",
   "execution_count": null,
   "metadata": {},
   "outputs": [],
   "source": [
    "# !trace_draw_node_graph $architecture_path_template $graph_png\n",
    "!trace_draw_node_graph $architecture_path $graph_png"
   ]
  }
 ],
 "metadata": {
  "kernelspec": {
   "display_name": "Python 3",
   "language": "python",
   "name": "python3"
  },
  "language_info": {
   "codemirror_mode": {
    "name": "ipython",
    "version": 3
   },
   "file_extension": ".py",
   "mimetype": "text/x-python",
   "name": "python",
   "nbconvert_exporter": "python",
   "pygments_lexer": "ipython3",
   "version": "3.8.5"
  }
 },
 "nbformat": 4,
 "nbformat_minor": 4
}

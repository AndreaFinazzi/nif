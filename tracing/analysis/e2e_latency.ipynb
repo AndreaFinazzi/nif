{
 "cells": [
  {
   "cell_type": "code",
   "execution_count": null,
   "metadata": {},
   "outputs": [],
   "source": [
    "import numpy as np"
   ]
  },
  {
   "cell_type": "code",
   "execution_count": null,
   "metadata": {},
   "outputs": [],
   "source": [
    "import pandas as pd"
   ]
  },
  {
   "cell_type": "code",
   "execution_count": null,
   "metadata": {},
   "outputs": [],
   "source": [
    "from tracetools_analysis.ros_model import ApplicationFactory"
   ]
  },
  {
   "cell_type": "code",
   "execution_count": null,
   "metadata": {},
   "outputs": [],
   "source": [
    "trace_path = '~/.ros/tracing/e2e_demo'\n",
    "architecture_path = './architecture.json'\n",
    "clock_path = '~/.ros/tracing/e2e_demo_clock'"
   ]
  },
  {
   "cell_type": "code",
   "execution_count": null,
   "metadata": {},
   "outputs": [],
   "source": [
    "app = ApplicationFactory.create_from_json(architecture_path)"
   ]
  },
  {
   "cell_type": "code",
   "execution_count": null,
   "metadata": {},
   "outputs": [],
   "source": [
    "app.import_trace(trace_path, clock=clock_path)\n",
    "# app.import_trace(trace_path)"
   ]
  },
  {
   "cell_type": "code",
   "execution_count": null,
   "metadata": {},
   "outputs": [],
   "source": [
    "list(app.paths)"
   ]
  },
  {
   "cell_type": "code",
   "execution_count": null,
   "metadata": {},
   "outputs": [],
   "source": [
    "list(app.paths)[0].child_names"
   ]
  },
  {
   "cell_type": "code",
   "execution_count": null,
   "metadata": {},
   "outputs": [],
   "source": [
    "# E2E path\n",
    "e2e_path = app.paths[1]"
   ]
  },
  {
   "cell_type": "code",
   "execution_count": null,
   "metadata": {},
   "outputs": [],
   "source": [
    "for path in app.paths:\n",
    "    print(path.child_names)"
   ]
  },
  {
   "cell_type": "code",
   "execution_count": null,
   "metadata": {},
   "outputs": [],
   "source": [
    "import matplotlib.pyplot as plt"
   ]
  },
  {
   "cell_type": "code",
   "execution_count": null,
   "metadata": {},
   "outputs": [],
   "source": [
    "def label(path):\n",
    "    return 'max: {} ms, {}'.format(path.max_ms, path.name)"
   ]
  },
  {
   "cell_type": "code",
   "execution_count": null,
   "metadata": {},
   "outputs": [],
   "source": [
    "path.get_stats()"
   ]
  },
  {
   "cell_type": "code",
   "execution_count": null,
   "metadata": {},
   "outputs": [],
   "source": [
    "path = app.paths[1]\n",
    "\n",
    "latency_ms, hist = path.hist(binsize_ns=1000000).get_xy()\n",
    "max_ms = path.get_stats()['max']\n",
    "plt.step(latency_ms, hist, label='max: {:.1f} ms'.format(max_ms), where='post')\n",
    "    \n",
    "plt.legend()\n",
    "plt.title('End-to-End')\n",
    "plt.xlabel('Latency [ms]')\n",
    "plt.ylabel('Probability')"
   ]
  },
  {
   "cell_type": "code",
   "execution_count": null,
   "metadata": {},
   "outputs": [],
   "source": [
    "path = app.paths[1]\n",
    "\n",
    "system_time_ns, latency_ns = path.timeseries.get_xy()\n",
    "time_s = (system_time_ns - system_time_ns[0]) * 1.0e-9\n",
    "latency_ms = latency_ns * 1.0e-6\n",
    "max_ms = path.get_stats()['max']\n",
    "plt.step(time_s[[0, -1]], [max_ms, max_ms], label='max: {:.1f} ms'.format(max_ms), c='r', ls='dashed', where='post')\n",
    "plt.step(time_s, latency_ms, label='time-series', where='post')\n",
    "    \n",
    "plt.legend(loc='upper right')\n",
    "plt.title('End-to-End')\n",
    "plt.xlabel('Time [s]')\n",
    "plt.ylabel('Latency [ms]')"
   ]
  },
  {
   "cell_type": "code",
   "execution_count": null,
   "metadata": {},
   "outputs": [],
   "source": [
    "path = app.paths[1]\n",
    "\n",
    "simtime_ns, latency_ns = path.timeseries.get_xy(use_simtime=True)\n",
    "simtime_s = simtime_ns * 1.0e-9\n",
    "latency_ms = latency_ns * 1.0e-6\n",
    "max_ms = path.get_stats()['max']\n",
    "plt.step(simtime_s[[0, -1]], [max_ms, max_ms], label='max: {:.1f} ms'.format(max_ms), c='r', ls='dashed', where='post')\n",
    "plt.step(simtime_s, latency_ms, label='time-series', where='post')\n",
    "    \n",
    "plt.legend(loc='upper right')\n",
    "plt.title('End-to-End')\n",
    "plt.xlabel('simtime [s]')\n",
    "plt.ylabel('Latency [ms]')"
   ]
  }
 ],
 "metadata": {
  "kernelspec": {
   "display_name": "Python 3",
   "language": "python",
   "name": "python3"
  },
  "language_info": {
   "codemirror_mode": {
    "name": "ipython",
    "version": 3
   },
   "file_extension": ".py",
   "mimetype": "text/x-python",
   "name": "python",
   "nbconvert_exporter": "python",
   "pygments_lexer": "ipython3",
   "version": "3.8.5"
  }
 },
 "nbformat": 4,
 "nbformat_minor": 4
}

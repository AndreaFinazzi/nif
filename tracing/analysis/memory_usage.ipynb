{
 "cells": [
  {
   "cell_type": "code",
   "execution_count": null,
   "metadata": {},
   "outputs": [],
   "source": [
    "# Memory usage\n",
    "#\n",
    "# Get trace data using the provided launch file:\n",
    "#    $ ros2 launch tracetools_analysis memory_usage.launch.py\n",
    "#    (wait a few seconds, then kill with Ctrl+C)\n",
    "#\n",
    "# (optional) convert trace data:\n",
    "#    $ ros2 trace-analysis convert ~/.ros/tracing/memory-usage"
   ]
  },
  {
   "cell_type": "code",
   "execution_count": 1,
   "metadata": {},
   "outputs": [],
   "source": [
    "path = '~/.ros/tracing/session-short20220530'"
   ]
  },
  {
   "cell_type": "code",
   "execution_count": 2,
   "metadata": {},
   "outputs": [],
   "source": [
    "import sys\n",
    "# Assuming a workspace with:\n",
    "#   src/tracetools_analysis/\n",
    "#   src/ros-tracing/ros2_tracing/tracetools_read/\n",
    "# sys.path.insert(0, '../')\n",
    "# sys.path.insert(0, '../../../ros-tracing/ros2_tracing/tracetools_read/')\n",
    "import datetime as dt\n",
    "\n",
    "from bokeh.palettes import viridis\n",
    "from bokeh.plotting import figure\n",
    "from bokeh.plotting import output_notebook\n",
    "from bokeh.io import show\n",
    "from bokeh.models import ColumnDataSource\n",
    "from bokeh.models import DatetimeTickFormatter\n",
    "from bokeh.models import NumeralTickFormatter\n",
    "import numpy as np\n",
    "import pandas as pd\n",
    "\n",
    "from tracetools_analysis.loading import load_file\n",
    "from tracetools_analysis.processor import Processor\n",
    "from tracetools_analysis.processor.memory_usage import KernelMemoryUsageHandler\n",
    "from tracetools_analysis.processor.memory_usage import UserspaceMemoryUsageHandler\n",
    "from tracetools_analysis.processor.ros2 import Ros2Handler\n",
    "from tracetools_analysis.utils.memory_usage import MemoryUsageDataModelUtil\n",
    "from tracetools_analysis.utils.ros2 import Ros2DataModelUtil"
   ]
  },
  {
   "cell_type": "code",
   "execution_count": 3,
   "metadata": {},
   "outputs": [
    {
     "name": "stdout",
     "output_type": "stream",
     "text": [
      "found converted file: /home/usrg/.ros/tracing/session-short20220530/converted\n"
     ]
    },
    {
     "ename": "RequiredEventNotFoundError",
     "evalue": "missing events: {'UserspaceMemoryUsageHandler': {'lttng_ust_libc:malloc', 'lttng_ust_libc:free'}, 'KernelMemoryUsageHandler': {'kmem_mm_page_alloc', 'kmem_mm_page_free'}}",
     "output_type": "error",
     "traceback": [
      "\u001b[0;31m---------------------------------------------------------------------------\u001b[0m",
      "\u001b[0;31mRequiredEventNotFoundError\u001b[0m                Traceback (most recent call last)",
      "\u001b[1;32m/home/usrg/nif/tracing/analysis/memory_usage.ipynb Cell 4'\u001b[0m in \u001b[0;36m<cell line: 6>\u001b[0;34m()\u001b[0m\n\u001b[1;32m      <a href='vscode-notebook-cell:/home/usrg/nif/tracing/analysis/memory_usage.ipynb#ch0000003?line=3'>4</a>\u001b[0m kernel_memory_handler \u001b[39m=\u001b[39m KernelMemoryUsageHandler()\n\u001b[1;32m      <a href='vscode-notebook-cell:/home/usrg/nif/tracing/analysis/memory_usage.ipynb#ch0000003?line=4'>5</a>\u001b[0m ros2_handler \u001b[39m=\u001b[39m Ros2Handler()\n\u001b[0;32m----> <a href='vscode-notebook-cell:/home/usrg/nif/tracing/analysis/memory_usage.ipynb#ch0000003?line=5'>6</a>\u001b[0m Processor(ust_memory_handler, kernel_memory_handler, ros2_handler)\u001b[39m.\u001b[39;49mprocess(events)\n",
      "File \u001b[0;32m/opt/autoware_perf/install/tracetools_analysis/lib/python3.8/site-packages/tracetools_analysis/processor/__init__.py:419\u001b[0m, in \u001b[0;36mProcessor.process\u001b[0;34m(self, events, erase_progress, no_required_events_check)\u001b[0m\n\u001b[1;32m    <a href='file:///opt/autoware_perf/install/tracetools_analysis/lib/python3.8/site-packages/tracetools_analysis/processor/__init__.py?line=410'>411</a>\u001b[0m \u001b[39m\"\"\"\u001b[39;00m\n\u001b[1;32m    <a href='file:///opt/autoware_perf/install/tracetools_analysis/lib/python3.8/site-packages/tracetools_analysis/processor/__init__.py?line=411'>412</a>\u001b[0m \u001b[39mProcess all events.\u001b[39;00m\n\u001b[1;32m    <a href='file:///opt/autoware_perf/install/tracetools_analysis/lib/python3.8/site-packages/tracetools_analysis/processor/__init__.py?line=412'>413</a>\u001b[0m \n\u001b[0;32m   (...)\u001b[0m\n\u001b[1;32m    <a href='file:///opt/autoware_perf/install/tracetools_analysis/lib/python3.8/site-packages/tracetools_analysis/processor/__init__.py?line=415'>416</a>\u001b[0m \u001b[39m:param no_required_events_check: whether to skip the check for required events\u001b[39;00m\n\u001b[1;32m    <a href='file:///opt/autoware_perf/install/tracetools_analysis/lib/python3.8/site-packages/tracetools_analysis/processor/__init__.py?line=416'>417</a>\u001b[0m \u001b[39m\"\"\"\u001b[39;00m\n\u001b[1;32m    <a href='file:///opt/autoware_perf/install/tracetools_analysis/lib/python3.8/site-packages/tracetools_analysis/processor/__init__.py?line=417'>418</a>\u001b[0m \u001b[39mif\u001b[39;00m \u001b[39mnot\u001b[39;00m no_required_events_check:\n\u001b[0;32m--> <a href='file:///opt/autoware_perf/install/tracetools_analysis/lib/python3.8/site-packages/tracetools_analysis/processor/__init__.py?line=418'>419</a>\u001b[0m     \u001b[39mself\u001b[39;49m\u001b[39m.\u001b[39;49m_check_required_events(events)\n\u001b[1;32m    <a href='file:///opt/autoware_perf/install/tracetools_analysis/lib/python3.8/site-packages/tracetools_analysis/processor/__init__.py?line=420'>421</a>\u001b[0m \u001b[39mif\u001b[39;00m \u001b[39mnot\u001b[39;00m \u001b[39mself\u001b[39m\u001b[39m.\u001b[39m_processing_done:\n\u001b[1;32m    <a href='file:///opt/autoware_perf/install/tracetools_analysis/lib/python3.8/site-packages/tracetools_analysis/processor/__init__.py?line=421'>422</a>\u001b[0m     \u001b[39m# Split into two versions so that performance is optimal\u001b[39;00m\n\u001b[1;32m    <a href='file:///opt/autoware_perf/install/tracetools_analysis/lib/python3.8/site-packages/tracetools_analysis/processor/__init__.py?line=422'>423</a>\u001b[0m     \u001b[39mif\u001b[39;00m \u001b[39mself\u001b[39m\u001b[39m.\u001b[39m_progress_display \u001b[39mis\u001b[39;00m \u001b[39mNone\u001b[39;00m:\n",
      "File \u001b[0;32m/opt/autoware_perf/install/tracetools_analysis/lib/python3.8/site-packages/tracetools_analysis/processor/__init__.py:401\u001b[0m, in \u001b[0;36mProcessor._check_required_events\u001b[0;34m(self, events)\u001b[0m\n\u001b[1;32m    <a href='file:///opt/autoware_perf/install/tracetools_analysis/lib/python3.8/site-packages/tracetools_analysis/processor/__init__.py?line=398'>399</a>\u001b[0m             missing_events[handler\u001b[39m.\u001b[39m\u001b[39m__class__\u001b[39m\u001b[39m.\u001b[39m\u001b[39m__name__\u001b[39m]\u001b[39m.\u001b[39madd(name)\n\u001b[1;32m    <a href='file:///opt/autoware_perf/install/tracetools_analysis/lib/python3.8/site-packages/tracetools_analysis/processor/__init__.py?line=399'>400</a>\u001b[0m \u001b[39mif\u001b[39;00m missing_events:\n\u001b[0;32m--> <a href='file:///opt/autoware_perf/install/tracetools_analysis/lib/python3.8/site-packages/tracetools_analysis/processor/__init__.py?line=400'>401</a>\u001b[0m     \u001b[39mraise\u001b[39;00m \u001b[39mself\u001b[39m\u001b[39m.\u001b[39mRequiredEventNotFoundError(\n\u001b[1;32m    <a href='file:///opt/autoware_perf/install/tracetools_analysis/lib/python3.8/site-packages/tracetools_analysis/processor/__init__.py?line=401'>402</a>\u001b[0m         \u001b[39mf\u001b[39m\u001b[39m'\u001b[39m\u001b[39mmissing events: \u001b[39m\u001b[39m{\u001b[39;00m\u001b[39mdict\u001b[39m(missing_events)\u001b[39m}\u001b[39;00m\u001b[39m'\u001b[39m\n\u001b[1;32m    <a href='file:///opt/autoware_perf/install/tracetools_analysis/lib/python3.8/site-packages/tracetools_analysis/processor/__init__.py?line=402'>403</a>\u001b[0m     )\n",
      "\u001b[0;31mRequiredEventNotFoundError\u001b[0m: missing events: {'UserspaceMemoryUsageHandler': {'lttng_ust_libc:malloc', 'lttng_ust_libc:free'}, 'KernelMemoryUsageHandler': {'kmem_mm_page_alloc', 'kmem_mm_page_free'}}"
     ]
    }
   ],
   "source": [
    "# Process\n",
    "events = load_file(path)\n",
    "ust_memory_handler = UserspaceMemoryUsageHandler()\n",
    "kernel_memory_handler = KernelMemoryUsageHandler()\n",
    "ros2_handler = Ros2Handler()\n",
    "Processor(ust_memory_handler, kernel_memory_handler, ros2_handler).process(events)"
   ]
  },
  {
   "cell_type": "code",
   "execution_count": null,
   "metadata": {},
   "outputs": [],
   "source": [
    "memory_data_util = MemoryUsageDataModelUtil(\n",
    "    userspace=ust_memory_handler.data,\n",
    "    kernel=kernel_memory_handler.data,\n",
    ")\n",
    "ros2_data_util = Ros2DataModelUtil(ros2_handler.data)\n",
    "\n",
    "output_notebook()\n",
    "psize = 650"
   ]
  },
  {
   "cell_type": "code",
   "execution_count": null,
   "metadata": {},
   "outputs": [],
   "source": [
    "# Plot memory usage\n",
    "ust_memory_usage_dfs = memory_data_util.get_absolute_userspace_memory_usage_by_tid()\n",
    "kernel_memory_usage_dfs = memory_data_util.get_absolute_kernel_memory_usage_by_tid()\n",
    "tids = ros2_data_util.get_tids()\n",
    "\n",
    "colours = viridis(len(tids) + 1)\n",
    "first_tid = min(tids)\n",
    "starttime = ust_memory_usage_dfs[first_tid].loc[:, 'timestamp'].iloc[0].strftime('%Y-%m-%d %H:%M')\n",
    "memory = figure(\n",
    "    title='Memory usage per thread/node',\n",
    "    x_axis_label=f'time ({starttime})',\n",
    "    y_axis_label='memory usage',\n",
    "    plot_width=psize, plot_height=psize,\n",
    ")\n",
    "\n",
    "i_colour = 0\n",
    "for tid in tids:\n",
    "    legend = str(tid) + ' ' + str(ros2_data_util.get_node_names_from_tid(tid))\n",
    "    # Userspace\n",
    "    memory.line(\n",
    "        x='timestamp',\n",
    "        y='memory_usage',\n",
    "        legend=legend + ' (ust)',\n",
    "        line_width=2,\n",
    "        source=ColumnDataSource(ust_memory_usage_dfs[tid]),\n",
    "        line_color=colours[i_colour],\n",
    "    )\n",
    "    # Kernel\n",
    "    memory.line(\n",
    "        x='timestamp',\n",
    "        y='memory_usage',\n",
    "        legend=legend + ' (kernel)',\n",
    "        line_width=2,\n",
    "        source=ColumnDataSource(kernel_memory_usage_dfs[tid]),\n",
    "        line_color=colours[i_colour],\n",
    "        line_dash='dotted',\n",
    "    )\n",
    "    i_colour += 1\n",
    "\n",
    "memory.title.align = 'center'\n",
    "memory.legend.label_text_font_size = '11px'\n",
    "memory.xaxis[0].formatter = DatetimeTickFormatter(seconds=['%Ss'])\n",
    "memory.yaxis[0].formatter = NumeralTickFormatter(format='0.0b')\n",
    "\n",
    "show(memory)"
   ]
  },
  {
   "cell_type": "code",
   "execution_count": null,
   "metadata": {},
   "outputs": [],
   "source": []
  }
 ],
 "metadata": {
  "interpreter": {
   "hash": "916dbcbb3f70747c44a77c7bcd40155683ae19c65e1c03b4aa3499c5328201f1"
  },
  "kernelspec": {
   "display_name": "Python 3.8.10 64-bit",
   "language": "python",
   "name": "python3"
  },
  "language_info": {
   "codemirror_mode": {
    "name": "ipython",
    "version": 3
   },
   "file_extension": ".py",
   "mimetype": "text/x-python",
   "name": "python",
   "nbconvert_exporter": "python",
   "pygments_lexer": "ipython3",
   "version": "3.8.10"
  }
 },
 "nbformat": 4,
 "nbformat_minor": 2
}

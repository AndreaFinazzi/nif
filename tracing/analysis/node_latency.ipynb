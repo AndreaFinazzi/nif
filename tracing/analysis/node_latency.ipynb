{
 "cells": [
  {
   "cell_type": "code",
   "execution_count": null,
   "metadata": {},
   "outputs": [],
   "source": [
    "import numpy as np"
   ]
  },
  {
   "cell_type": "code",
   "execution_count": null,
   "metadata": {},
   "outputs": [],
   "source": [
    "from tracetools_analysis.ros_model import ApplicationFactory"
   ]
  },
  {
   "cell_type": "code",
   "execution_count": null,
   "metadata": {},
   "outputs": [],
   "source": [
    "trace_path = '~/.ros/tracing/e2e_demo/ust'\n",
    "architecture_path = './architecture.json'"
   ]
  },
  {
   "cell_type": "code",
   "execution_count": null,
   "metadata": {},
   "outputs": [],
   "source": [
    "app = ApplicationFactory.create_from_json(architecture_path)"
   ]
  },
  {
   "cell_type": "code",
   "execution_count": null,
   "metadata": {},
   "outputs": [],
   "source": [
    "app.import_trace(trace_path, start_transition_ms=1000, end_transition_ms=1000)"
   ]
  },
  {
   "cell_type": "code",
   "execution_count": null,
   "metadata": {},
   "outputs": [],
   "source": [
    "list(app.nodes)"
   ]
  },
  {
   "cell_type": "code",
   "execution_count": null,
   "metadata": {},
   "outputs": [],
   "source": [
    "paths =  app.nodes[4].paths"
   ]
  },
  {
   "cell_type": "code",
   "execution_count": null,
   "metadata": {},
   "outputs": [],
   "source": [
    "paths"
   ]
  },
  {
   "cell_type": "code",
   "execution_count": null,
   "metadata": {},
   "outputs": [],
   "source": [
    "node= paths[1]"
   ]
  },
  {
   "cell_type": "code",
   "execution_count": null,
   "metadata": {},
   "outputs": [],
   "source": [
    "node.name"
   ]
  },
  {
   "cell_type": "code",
   "execution_count": null,
   "metadata": {},
   "outputs": [],
   "source": [
    "import matplotlib.pyplot as plt"
   ]
  },
  {
   "cell_type": "code",
   "execution_count": null,
   "metadata": {},
   "outputs": [],
   "source": [
    "def label(path):\n",
    "    return 'max: {} ms, {}'.format(path.max_ms, path.name)"
   ]
  },
  {
   "cell_type": "code",
   "execution_count": null,
   "metadata": {},
   "outputs": [],
   "source": [
    "node.get_stats()"
   ]
  },
  {
   "cell_type": "code",
   "execution_count": null,
   "metadata": {},
   "outputs": [],
   "source": [
    "latency_ms, hist = node.hist(binsize_ns=10000000).get_xy()\n",
    "max_ms = node.get_stats()['max']\n",
    "plt.step(latency_ms, hist, label='max: {:.1f} ms'.format(max_ms), where='post')\n",
    "\n",
    "plt.legend()\n",
    "plt.title(node.name)\n",
    "plt.xlabel('Latency [ms]')\n",
    "plt.ylabel('Probability')"
   ]
  },
  {
   "cell_type": "code",
   "execution_count": null,
   "metadata": {},
   "outputs": [],
   "source": [
    "system_time_ns, latency_ns = node.timeseries.get_xy()\n",
    "\n",
    "time_s = (system_time_ns - system_time_ns[0]) * 1.0e-9\n",
    "latency_ms = latency_ns * 1.0e-6\n",
    "max_ms = node.get_stats()['max']\n",
    "plt.step(time_s[[0, -1]], [max_ms, max_ms], label='max: {:.1f} ms'.format(max_ms), c='r', ls='dashed')\n",
    "plt.step(time_s, latency_ms, label='time-series', where='post')\n",
    "    \n",
    "plt.legend(loc='upper right')\n",
    "plt.title(node.name)\n",
    "plt.xlabel('Time [s]')\n",
    "plt.ylabel('Latency [ms]')"
   ]
  },
  {
   "cell_type": "code",
   "execution_count": null,
   "metadata": {},
   "outputs": [],
   "source": [
    "node.child"
   ]
  },
  {
   "cell_type": "code",
   "execution_count": null,
   "metadata": {},
   "outputs": [],
   "source": [
    "callback = node.child[0]"
   ]
  },
  {
   "cell_type": "code",
   "execution_count": null,
   "metadata": {},
   "outputs": [],
   "source": [
    "callback.get_stats()"
   ]
  },
  {
   "cell_type": "code",
   "execution_count": null,
   "metadata": {},
   "outputs": [],
   "source": [
    "latency_ms, hist = callback.hist(binsize_ns=10000).get_xy()\n",
    "max_ms = callback.get_stats()['max']\n",
    "plt.step(latency_ms, hist, label='max: {:.1f} ms'.format(max_ms), where='post')\n",
    "\n",
    "plt.legend()\n",
    "plt.title(callback.name)\n",
    "plt.xlabel('Latency [ms]')\n",
    "plt.ylabel('Probability')"
   ]
  },
  {
   "cell_type": "code",
   "execution_count": null,
   "metadata": {},
   "outputs": [],
   "source": [
    "system_time_ns, duration_ns = callback.timeseries.get_xy()\n",
    "time_s = (system_time_ns - system_time_ns[0]) * 1.0e-9\n",
    "duration_ms = duration_ns * 1.0e-6\n",
    "\n",
    "plt.title(callback.name + 'Latency')\n",
    "plt.step(time_s, duration_ms, label='max: {:.1f} ms'.format(max_ms), where='post')\n",
    "plt.legend()\n",
    "plt.xlabel('Time [s]')\n",
    "plt.ylabel('Latency [ms]')"
   ]
  },
  {
   "cell_type": "code",
   "execution_count": null,
   "metadata": {},
   "outputs": [],
   "source": [
    "sched = node.child[1]"
   ]
  },
  {
   "cell_type": "code",
   "execution_count": null,
   "metadata": {},
   "outputs": [],
   "source": [
    "node.child"
   ]
  },
  {
   "cell_type": "code",
   "execution_count": null,
   "metadata": {},
   "outputs": [],
   "source": [
    "hist = sched.hist(binsize_ns=10000000)\n",
    "latency_ms, hist = hist.get_xy()\n",
    "max_ms = sched.get_stats()['max']\n",
    "plt.step(latency_ms, hist, label='max: {:.1f} ms'.format(max_ms), where='post')\n",
    "\n",
    "plt.legend()\n",
    "plt.title(sched.name)\n",
    "plt.xlabel('Latency [ms]')\n",
    "plt.ylabel('Probability')"
   ]
  },
  {
   "cell_type": "code",
   "execution_count": null,
   "metadata": {},
   "outputs": [],
   "source": [
    "\n",
    "system_time_ns, latency_ns = sched.timeseries.get_xy()\n",
    "time = (system_time_ns - system_time_ns[0]) * 1.0e-9\n",
    "latency_ms = latency_ns * 1.0e-6\n",
    "plt.step(time, latency_ms, label='max: {:.1f} ms'.format(max_ms), where='post')\n",
    "\n",
    "plt.title(sched.name)\n",
    "plt.xlabel('Time [s]')\n",
    "plt.ylabel('Latency [ms]')\n",
    "plt.legend()"
   ]
  },
  {
   "cell_type": "code",
   "execution_count": null,
   "metadata": {},
   "outputs": [],
   "source": [
    "sched.get_stats()"
   ]
  }
 ],
 "metadata": {
  "kernelspec": {
   "display_name": "Python 3",
   "language": "python",
   "name": "python3"
  },
  "language_info": {
   "codemirror_mode": {
    "name": "ipython",
    "version": 3
   },
   "file_extension": ".py",
   "mimetype": "text/x-python",
   "name": "python",
   "nbconvert_exporter": "python",
   "pygments_lexer": "ipython3",
   "version": "3.8.5"
  }
 },
 "nbformat": 4,
 "nbformat_minor": 4
}

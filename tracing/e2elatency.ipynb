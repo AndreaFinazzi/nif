{
 "cells": [
  {
   "cell_type": "code",
   "execution_count": 1,
   "metadata": {},
   "outputs": [],
   "source": [
    "import numpy as np\n",
    "import matplotlib.pyplot as plt\n",
    "import collections\n",
    "import pandas as pd\n",
    "import os"
   ]
  },
  {
   "cell_type": "code",
   "execution_count": 2,
   "metadata": {},
   "outputs": [],
   "source": [
    "HOME = os.environ.get(\"HOME\")\n",
    "path_prefix = HOME + \"/tracing/tracelog\"\n",
    "session_name = \"session-20220704201438\"\n",
    "path_tracelog = os.path.join(path_prefix, session_name + '.txt')\n",
    "path_start = os.path.join(path_prefix, session_name + '_cstart.txt')\n",
    "path_end = os.path.join(path_prefix, session_name + '_cend.txt')\n",
    "\n",
    "path = path_tracelog\n",
    "f = open(path)\n",
    "f.close()\n",
    "with open(path) as f:\n",
    "    l = f.readlines()\n",
    "\n",
    "HEADER_PUBLISHERS_E  = 'Publishers:\\n' if 'Publishers:\\n' in l else 'Publishers (rmw):\\n'\n",
    "HEADER_PUBLISHERS_S  = 'Publishers:\\n' if 'Publishers:\\n' in l else 'Publishers (rcl):\\n'\n",
    "HEADER_SUBSCRIBERS_E = 'Subscriptions:\\n' if 'Subscriptions:\\n' in l else 'Subscriptions (rmw):\\n'\n",
    "HEADER_SUBSCRIBERS_S = 'Subscriptions:\\n' if 'Subscriptions:\\n' in l else 'Subscriptions (rcl):\\n'\n",
    "S = l.index('Nodes:\\n')\n",
    "E_rmw = l.index(HEADER_PUBLISHERS_E)\n",
    "E = l.index(HEADER_PUBLISHERS_S)\n",
    "no=[]\n",
    "for i in l[S+3:E_rmw-1]:\n",
    "    no.append(i.split()[4])"
   ]
  },
  {
   "cell_type": "code",
   "execution_count": 3,
   "metadata": {},
   "outputs": [],
   "source": [
    "import os\n",
    "dirname = os.path.join(path_prefix, session_name, \"out\")\n",
    "os.makedirs(dirname, exist_ok=True)\n",
    "\n",
    "#plot a label as ms\n",
    "def label(latency):\n",
    "    return 'max:{:.02f}ms, mean:{:.02f}ms'.format(max(latency),np.mean(latency))\n",
    "#plot a graph as ms\n",
    "def graph(latency, title):\n",
    "    fig, ax = plt.subplots(1, 1)\n",
    "    ax.xaxis.set_major_formatter(plt.FuncFormatter(lambda x, loc: \"{:,}\".format(int(x))))\n",
    "    plt.hist(latency, bins=200, label=label(latency))\n",
    "    plt.legend()\n",
    "    plt.title(\"%s\"%title, fontsize=15)\n",
    "    plt.xlabel(\"Latency [ms]\", fontsize=15)\n",
    "    plt.ylabel(\"Sample\", fontsize=15)\n",
    "    filename = dirname + \"%s\"%title+\".pdf\"\n",
    "    plt.savefig(filename)\n",
    "\n",
    "#plot a label as us\n",
    "def label2(latency):\n",
    "    return 'max:{:.02f}us, mean:{:.02f}us'.format(max(latency),np.mean(latency))\n",
    "#plot a graph\n",
    "def graph2(latency, title):\n",
    "    fig, ax = plt.subplots(1, 1)\n",
    "    ax.xaxis.set_major_formatter(plt.FuncFormatter(lambda x, loc: \"{:,}\".format(int(x))))\n",
    "    plt.hist(latency, bins=200, label=label2(latency))\n",
    "    plt.legend()\n",
    "    plt.title(\"%s\"%title, fontsize=15)\n",
    "    plt.xlabel(\"Latency [us]\", fontsize=15)\n",
    "    plt.ylabel(\"Sample\", fontsize=15)\n",
    "    filename = dirname + \"%s\"%title+\".pdf\"\n",
    "    plt.savefig(filename)"
   ]
  },
  {
   "cell_type": "code",
   "execution_count": 4,
   "metadata": {},
   "outputs": [],
   "source": [
    "# get callback in XXX node\n",
    "def cb(node):    \n",
    "    path = path_tracelog\n",
    "    f = open(path)\n",
    "    f.close()\n",
    "    with open(path) as f:\n",
    "        l = f.readlines()\n",
    "    #node handle\n",
    "    S = l.index('Nodes:\\n')\n",
    "    E = l.index(HEADER_PUBLISHERS_E)\n",
    "    nodel = [line for line in l[S:E] if node in line]\n",
    "    nodename= nodel[0].split()[4]\n",
    "    nodeh= nodel[0].split()[0]\n",
    "\n",
    "    S = l.index(HEADER_SUBSCRIBERS_S)\n",
    "    E = l.index('Subscription objects:\\n')\n",
    "    subt = [line for line in l[S:E] if nodeh in line]\n",
    "    stopic=[]\n",
    "    for i in subt:\n",
    "        stopic.append('/'+i.split(' /')[1].split()[0])\n",
    "    print('sub:',stopic)\n",
    "    \n",
    "    S = l.index(HEADER_PUBLISHERS_S)\n",
    "    E = l.index(HEADER_SUBSCRIBERS_E)\n",
    "    pubt = [line for line in l[S:E] if nodeh in line]\n",
    "    ptopic=[]\n",
    "    for i in pubt:\n",
    "        ptopic.append('/'+i.split(' /')[1].split()[0])\n",
    "    print('pub:',ptopic)\n",
    "    \n",
    "    S = l.index('Services:\\n')\n",
    "    E = l.index('Clients:\\n')\n",
    "    sert = [line for line in l[S:E] if nodeh in line]\n",
    "    sname=[]\n",
    "    for i in sert:\n",
    "        sname.append('/'+i.split(' /')[1].split()[0])\n",
    "    #print('service:',sname)\n",
    "    \n",
    "    S = l.index('Clients:\\n')\n",
    "    E = l.index('Timers:\\n')\n",
    "    clit = [line for line in l[S:E] if nodeh in line]\n",
    "    csname=[]\n",
    "    for i in clit:\n",
    "        csname.append('/'+i.split(' /')[1].split()[0])\n",
    "    #print('client:',csname)\n",
    "\n",
    "def cbname(node,topic):\n",
    "    path = path_tracelog\n",
    "    f = open(path)\n",
    "    f.close()\n",
    "    with open(path) as f:\n",
    "        l = f.readlines()\n",
    "    \n",
    "    #node handle\n",
    "    S = l.index('Nodes:\\n')\n",
    "    E = l.index(HEADER_PUBLISHERS_E)\n",
    "    node = [line for line in l[S:E] if node in line]\n",
    "    nodename= node[0].split()[4]\n",
    "    nodeh= node[0].split()[0]\n",
    "\n",
    "    S = l.index(HEADER_SUBSCRIBERS_S)\n",
    "    E = l.index('Subscription objects:\\n')\n",
    "    subt = [line for line in l[S:E] if nodeh in line]\n",
    "    st=[line for line in subt if topic in line]\n",
    "    #print(st)\n",
    "    subscription_handle=st[0].split()[0]\n",
    "    \n",
    "    #subscription_handle -> reference\n",
    "    S = l.index('Subscription objects:\\n')\n",
    "    E = l.index('Services:\\n')   \n",
    "    refer=[]\n",
    "    ref = [line for line in l[S:E] if subscription_handle in line]\n",
    "    refer.append(''.join(ref))\n",
    "    reference= refer[0].split()[0]\n",
    "    \n",
    "    #reference -> callback_object\n",
    "    S = l.index('Callback objects:\\n')\n",
    "    E = l.index('Callback symbols:\\n')   \n",
    "    cboj=[]\n",
    "    cb= [line for line in l[S:E] if reference in line]\n",
    "    cboj.append(''.join(cb))\n",
    "    callback_object=cboj[0].split()[2]\n",
    "    cbh = str(hex(int(callback_object)))\n",
    "    cbhandle = cbh.upper().replace('X', 'x')\n",
    "\n",
    "    return cbhandle\n",
    "\n",
    "# get callback duration\n",
    "def cbd(node, topic, title=''):\n",
    "    path = path_tracelog\n",
    "    f = open(path)\n",
    "    f.close()\n",
    "    with open(path) as f:\n",
    "        l = f.readlines()\n",
    "    \n",
    "    #node handle\n",
    "    S = l.index('Nodes:\\n')\n",
    "    E = l.index(HEADER_PUBLISHERS_E)\n",
    "    node = [line for line in l[S:E] if node in line]\n",
    "    nodename= node[0].split()[4]\n",
    "    nodeh= node[0].split()[0]\n",
    "    S = l.index(HEADER_SUBSCRIBERS_S)\n",
    "    E = l.index('Subscription objects:\\n')\n",
    "    subt = [line for line in l[S:E] if nodeh in line]\n",
    "    st=[line for line in subt if topic in line]\n",
    "    subscription_handle= st[0].split()[0]\n",
    "    \n",
    "    #subscription_handle -> reference\n",
    "    S = l.index('Subscription objects:\\n')\n",
    "    E = l.index('Services:\\n')   \n",
    "    refer=[]\n",
    "    ref = [line for line in l[S:E] if subscription_handle in line]\n",
    "    refer.append(''.join(ref))\n",
    "    reference= refer[0].split()[0]\n",
    "    \n",
    "    #reference -> callback_object\n",
    "    S = l.index('Callback objects:\\n')\n",
    "    E = l.index('Callback symbols:\\n')   \n",
    "    cboj=[]\n",
    "    cb= [line for line in l[S:E] if reference in line]\n",
    "    cboj.append(''.join(cb))\n",
    "    callback_object=cboj[0].split()[2]\n",
    "\n",
    "    t=[]\n",
    "    S = l.index('Callback instances:\\n')\n",
    "    E = l.index('Lifecycle state machines:\\n')  \n",
    "    l_XXX = [line for line in l[S:E] if callback_object in line]\n",
    "\n",
    "    cbd_ns = []\n",
    "    for i in l_XXX:\n",
    "        cbd_ns.append(int(i.split()[6].split('.')[1])) \n",
    "    cbd_us = []\n",
    "    for i in cbd_ns:\n",
    "        cbd_us.append(i/1000)\n",
    "    \n",
    "    for i in cbd_us:\n",
    "        if i > 200000:\n",
    "            cbd_us.remove(i)\n",
    "            \n",
    "    _title = title if title else nodename\n",
    "\n",
    "    return cbd_us,_title\n",
    "\n",
    "# get callback duration\n",
    "def t_cbd(node, title=''):\n",
    "    path = path_tracelog\n",
    "    f = open(path)\n",
    "    f.close()\n",
    "    with open(path) as f:\n",
    "        l = f.readlines()\n",
    "    \n",
    "    #node handle\n",
    "    S = l.index('Nodes:\\n')\n",
    "    E = l.index(HEADER_PUBLISHERS_E)\n",
    "    node = [line for line in l[S:E] if node in line]\n",
    "    nodename= node[0].split()[4]\n",
    "    nodeh= node[0].split()[0]\n",
    "    S = l.index(HEADER_SUBSCRIBERS_S)\n",
    "    E = l.index('Subscription objects:\\n')\n",
    "    # subt = [line for line in l[S:E] if nodeh in line]\n",
    "    # st=[line for line in subt if topic in line]\n",
    "    # subscription_handle= st[0].split()[0]\n",
    "    \n",
    "    #nodeh -> timer_handle\n",
    "    S = l.index('Timer-node links:\\n')\n",
    "    E = l.index('Callback objects:\\n')\n",
    "    refer=[]\n",
    "    ref = [line for line in l[S:E] if nodeh in line]\n",
    "    refer.append(''.join(ref))\n",
    "    reference= refer[0].split()[0]\n",
    "    \n",
    "    #reference -> callback_object\n",
    "    S = l.index('Callback objects:\\n')\n",
    "    E = l.index('Callback symbols:\\n')   \n",
    "    cboj=[]\n",
    "    cb= [line for line in l[S:E] if reference in line]\n",
    "    cboj.append(''.join(cb))\n",
    "    callback_object=cboj[0].split()[2]\n",
    "\n",
    "    t=[]\n",
    "    S = l.index('Callback instances:\\n')\n",
    "    E = l.index('Lifecycle state machines:\\n')  \n",
    "    l_XXX = [line for line in l[S:E] if callback_object in line]\n",
    "\n",
    "    cbd_ns = []\n",
    "    for i in l_XXX:\n",
    "        cbd_ns.append(int(i.split()[6].split('.')[1])) \n",
    "    cbd_us = []\n",
    "    for i in cbd_ns:\n",
    "        cbd_us.append(i/1000)\n",
    "    \n",
    "    for i in cbd_us:\n",
    "        if i > 200000:\n",
    "            cbd_us.remove(i)\n",
    "            \n",
    "    _title = title if title else nodename\n",
    "\n",
    "    return cbd_us,_title\n",
    "\n",
    "def com_latency(callback1,callback2):\n",
    "    path = path_end\n",
    "    f = open(path)\n",
    "    f.close()\n",
    "    with open(path) as f:\n",
    "        l = f.readlines()\n",
    "    \n",
    "    com1_latency = []\n",
    "    for i in l:\n",
    "        cb1 = i.split(\"callback = \")[1].split(\" }\")[0]\n",
    "        if (cb1 == callback1):\n",
    "            com1 = int(i.split('+0.')[1].split(')')[0])\n",
    "            com1_latency.append(com1)\n",
    "            \n",
    "    path = path_start\n",
    "    f = open(path)\n",
    "    f.close()\n",
    "    with open(path) as f:\n",
    "        l = f.readlines()\n",
    "    \n",
    "    com2_latency = []\n",
    "    for i in l:\n",
    "        cb2 = i.split(\"callback = \")[1].split(\",\")[0]\n",
    "        if (cb2 == callback2):\n",
    "            com2 = int(i.split('+0.')[1].split(')')[0])\n",
    "            com2_latency.append(com2)\n",
    "    \n",
    "    com_latency=[com1_latency[i]+com2_latency[i] for i in range(min(len(com1_latency),len(com2_latency)))]\n",
    "\n",
    "    com_latency_us = []\n",
    "    for i in com_latency:\n",
    "        com_latency_us.append(i/1000)\n",
    "    return com_latency_us"
   ]
  },
  {
   "cell_type": "code",
   "execution_count": 5,
   "metadata": {},
   "outputs": [],
   "source": [
    "node_gps = 'global_parameters_node'\n",
    "node_ssm = 'system_status_manager_node'\n",
    "node_msm = 'mission_manager_node'\n",
    "node_odi = 'override_device_interface_node'\n",
    "node_rci = 'rc_interface_node'\n",
    "node_awl = 'aw_localization_node'\n",
    "# node_geo = 'localization_geofence_node'\n",
    "# node_res = 'localization_resilient_node'\n",
    "# node_map = 'localization_globalmap_node'\n",
    "node_wpt = 'waypoint_manager_node_mission_selective'\n",
    "node_dyn = 'dynamic_planning_node'\n",
    "node_vel = 'velocity_planning_node'\n",
    "node_acc = 'nif_idm_based_acc_node'\n",
    "node_lqr = 'control_joint_lqr'\n",
    "node_csl = 'control_safety_layer_node'\n",
    "node_acn = 'AccelControlNode'\n",
    "# node_dbw = 'raptor_dbw_can_node'\n",
    "# node_ssc = 'ssc_interface_node'\n",
    "node_clu = 'lidar_clustering_node'\n",
    "node_trc = 'objects_tracking_node'\n",
    "node_cnc = 'perception_concat_node'\n",
    "node_pre = 'opponent_predictor_node'\n",
    "node_gff = 'geofence_filter_node'\n",
    "node_urd = 'robot_state_publisher'"
   ]
  },
  {
   "cell_type": "code",
   "execution_count": 6,
   "metadata": {},
   "outputs": [
    {
     "name": "stdout",
     "output_type": "stream",
     "text": [
      "sub: ['/parameter_events', '/aw_localization/ekf/odom', '/system/status', '/raptor_dbw_interface/pt_report', '/control_pool/control_cmd', '/control_pool/override_cmd', '/raptor_dbw_interface/wheel_speed_report', '/raptor_dbw_interface/pt_report', '/no_0', '/no_1', '/no_2']\n",
      "pub: ['/rosout', '/parameter_events', '/node_status/control_safety_layer_node', '/control_safety_layer/out/control_cmd', '/joystick/steering_cmd', '/joystick/accelerator_cmd', '/joystick/brake_cmd', '/joystick/gear_cmd', '/control_safety_layer/out/desired_accel', '/diagnostics/heartbeat']\n"
     ]
    }
   ],
   "source": [
    "# cb(node_awl)\n",
    "# cb(node_ssm)\n",
    "# cb(node_msm)\n",
    "# cb(node_odi)\n",
    "# cb(node_rci)\n",
    "# cb(node_geo)\n",
    "# cb(node_res)\n",
    "# cb(node_map)\n",
    "# cb(node_wpt)\n",
    "# cb(node_dyn)\n",
    "# cb(node_vel)\n",
    "# cb(node_acc)\n",
    "# cb(node_lqr)\n",
    "cb(node_csl)\n",
    "# cb(node_acn)\n",
    "# cb(node_clu)\n",
    "# cb(node_dbw)\n",
    "# cb(node_ssc)"
   ]
  },
  {
   "cell_type": "code",
   "execution_count": 7,
   "metadata": {},
   "outputs": [],
   "source": [
    "topic_ss = '/system/status'\n",
    "topic_sm = '/system/mission'\n",
    "topic_ns_csl = '/node_status/control_safety_layer_node'\n",
    "topic_ns_acc = '/node_status/nif_idm_based_acc_node'\n",
    "topic_ns_vel = '/node_status/velocity_planning_node'\n",
    "topic_ns_awl = '/node_status/aw_localization_node'\n",
    "topic_ns_lqr = '/node_status/control_joint_lqr'\n",
    "topic_ns_dyn = '/node_status/dynamic_planning_node'\n",
    "topic_ns_wpt = '/node_status/waypoint_manager_node_mission_selective'\n",
    "topic_ns_msm = '/node_status/mission_manager_node'\n",
    "topic_ns_gff = '/node_status/geofence_filter_node'\n",
    "# topic_ns_res = '/node_status/localization_resilient_node'\n",
    "\n",
    "topic_veh_ejy = '/vehicle/emergency_joystick'\n",
    "topic_veh_ehb = '/vehicle/emergency_heartbeat'\n",
    "\n",
    "topic_joy_acc = '/joystick/accelerator_cmd'\n",
    "topic_joy_brk = '/joystick/brake_cmd'\n",
    "topic_joy_gea = '/joystick/gear_cmd'\n",
    "topic_joy_str = '/joystick/steering_cmd'\n",
    "\n",
    "topic_csl_out_cmd = '/control_safety_layer/out/control_cmd'\n",
    "topic_csl_out_dac = '/control_safety_layer/out/desired_accel'\n",
    "\n",
    "topic_cpool_ovr = '/control_pool/override_cmd'\n",
    "topic_cpool_cmd = '/control_pool/control_cmd'\n",
    "\n",
    "topic_acc_acc = '/control/acc/des_acc'\n",
    "topic_vel_vel = '/velocity_planner/des_vel'\n",
    "topic_awl_odo = '/aw_localization/ekf/odom'\n",
    "topic_awl_err = '/aw_localization/ekf/error'\n",
    "topic_awl_sts = '/aw_localization/ekf/status'\n",
    "\n",
    "topic_perc_concat = '/perception/concat'\n",
    "topic_perc_clu_pl = '/clustered/perception_list'\n",
    "topic_perc_esr_track = '/radar_front/esr_track'\n",
    "\n",
    "topic_rci_rfs = '/rc_interface/rc_flag_summary'\n",
    "topic_pla_glo = '/planning/path_global'\n",
    "topic_dyn_glo = '/planning/dynamic/traj_global'\n",
    "topic_hb = '/diagnostics/heartbeat'\n",
    "topic_clu_cp = '/cluster_center_points'\n",
    "topic_tf = '/tf'\n",
    "\n",
    "topic_sen_gnss_top = '/novatel_top/bestgnsspos'"
   ]
  },
  {
   "cell_type": "code",
   "execution_count": 8,
   "metadata": {},
   "outputs": [],
   "source": [
    "tasks_cb = {\n",
    "    \"state_estimation\" : [\n",
    "        (node_awl,topic_sen_gnss_top),\n",
    "    ],\n",
    "\n",
    "    \"perception\" : [\n",
    "        (node_clu, ),\n",
    "        (node_trc, topic_perc_concat),\n",
    "        (node_cnc, ),\n",
    "        # (node_pre, ), # Missing data in the tracing session\n",
    "        (node_gff, topic_perc_clu_pl),\n",
    "    ],\n",
    "\n",
    "    \"planning\" : [\n",
    "        (node_wpt, ),\n",
    "        (node_dyn, ),\n",
    "        (node_vel, ),\n",
    "    ],\n",
    "\n",
    "    \"control\" : [\n",
    "        (node_acc, ),\n",
    "        (node_lqr, ),\n",
    "        (node_csl, ),\n",
    "        # (node_acn, topic_csl_out_dac),\n",
    "    ]\n",
    "}"
   ]
  },
  {
   "cell_type": "code",
   "execution_count": 9,
   "metadata": {},
   "outputs": [],
   "source": [
    "cb1 = cbname(node_awl,topic_sen_gnss_top)\n",
    "cb2 = cbname(node_dyn,topic_awl_odo)\n",
    "cb3 = cbname(node_lqr,topic_dyn_glo)\n",
    "cb4 = cbname(node_csl,topic_cpool_cmd)\n",
    "cb5 = cbname(node_acn,topic_csl_out_dac)\n",
    "# cb6 = cbname(node_ssc,topic_joy_acc)\n",
    "# cb7 = cbname(node7,topic7)\n",
    "# cb8 = cbname(node8,topic8)\n",
    "# cb9 = cbname(node9,topic9)\n",
    "# cb10 = cbname(node10,topic10)\n",
    "# cb11 = cbname(node11,topic11)\n",
    "# cb12 = cbname(node12,topic12)\n",
    "# cb13 = cbname(node13,topic13)\n",
    "# cb14 = cbname(node14,topic14)\n",
    "# cb15 = cbname(node15,topic15)\n",
    "# cb16 = cbname(node16,topic16)"
   ]
  },
  {
   "cell_type": "code",
   "execution_count": 10,
   "metadata": {},
   "outputs": [
    {
     "ename": "IndexError",
     "evalue": "list index out of range",
     "output_type": "error",
     "traceback": [
      "\u001b[0;31m---------------------------------------------------------------------------\u001b[0m",
      "\u001b[0;31mIndexError\u001b[0m                                Traceback (most recent call last)",
      "\u001b[0;32m<ipython-input-10-b7337bf9610e>\u001b[0m in \u001b[0;36m<module>\u001b[0;34m\u001b[0m\n\u001b[1;32m      4\u001b[0m             \u001b[0mcbduration\u001b[0m\u001b[0;34m,\u001b[0m\u001b[0m_title\u001b[0m \u001b[0;34m=\u001b[0m \u001b[0mcbd\u001b[0m\u001b[0;34m(\u001b[0m\u001b[0mstep\u001b[0m\u001b[0;34m[\u001b[0m\u001b[0;36m0\u001b[0m\u001b[0;34m]\u001b[0m\u001b[0;34m,\u001b[0m \u001b[0mstep\u001b[0m\u001b[0;34m[\u001b[0m\u001b[0;36m1\u001b[0m\u001b[0;34m]\u001b[0m\u001b[0;34m)\u001b[0m\u001b[0;34m\u001b[0m\u001b[0;34m\u001b[0m\u001b[0m\n\u001b[1;32m      5\u001b[0m         \u001b[0;32melse\u001b[0m\u001b[0;34m:\u001b[0m\u001b[0;34m\u001b[0m\u001b[0;34m\u001b[0m\u001b[0m\n\u001b[0;32m----> 6\u001b[0;31m             \u001b[0mcbduration\u001b[0m\u001b[0;34m,\u001b[0m\u001b[0m_title\u001b[0m \u001b[0;34m=\u001b[0m \u001b[0mt_cbd\u001b[0m\u001b[0;34m(\u001b[0m\u001b[0mstep\u001b[0m\u001b[0;34m[\u001b[0m\u001b[0;36m0\u001b[0m\u001b[0;34m]\u001b[0m\u001b[0;34m)\u001b[0m\u001b[0;34m\u001b[0m\u001b[0;34m\u001b[0m\u001b[0m\n\u001b[0m\u001b[1;32m      7\u001b[0m \u001b[0;34m\u001b[0m\u001b[0m\n\u001b[1;32m      8\u001b[0m         \u001b[0mtitle\u001b[0m \u001b[0;34m=\u001b[0m \u001b[0mtask\u001b[0m \u001b[0;34m+\u001b[0m \u001b[0;34m':'\u001b[0m \u001b[0;34m+\u001b[0m \u001b[0m_title\u001b[0m\u001b[0;34m\u001b[0m\u001b[0;34m\u001b[0m\u001b[0m\n",
      "\u001b[0;32m<ipython-input-4-3c5cd0c52465>\u001b[0m in \u001b[0;36mt_cbd\u001b[0;34m(node, title)\u001b[0m\n\u001b[1;32m    168\u001b[0m     \u001b[0mref\u001b[0m \u001b[0;34m=\u001b[0m \u001b[0;34m[\u001b[0m\u001b[0mline\u001b[0m \u001b[0;32mfor\u001b[0m \u001b[0mline\u001b[0m \u001b[0;32min\u001b[0m \u001b[0ml\u001b[0m\u001b[0;34m[\u001b[0m\u001b[0mS\u001b[0m\u001b[0;34m:\u001b[0m\u001b[0mE\u001b[0m\u001b[0;34m]\u001b[0m \u001b[0;32mif\u001b[0m \u001b[0mnodeh\u001b[0m \u001b[0;32min\u001b[0m \u001b[0mline\u001b[0m\u001b[0;34m]\u001b[0m\u001b[0;34m\u001b[0m\u001b[0;34m\u001b[0m\u001b[0m\n\u001b[1;32m    169\u001b[0m     \u001b[0mrefer\u001b[0m\u001b[0;34m.\u001b[0m\u001b[0mappend\u001b[0m\u001b[0;34m(\u001b[0m\u001b[0;34m''\u001b[0m\u001b[0;34m.\u001b[0m\u001b[0mjoin\u001b[0m\u001b[0;34m(\u001b[0m\u001b[0mref\u001b[0m\u001b[0;34m)\u001b[0m\u001b[0;34m)\u001b[0m\u001b[0;34m\u001b[0m\u001b[0;34m\u001b[0m\u001b[0m\n\u001b[0;32m--> 170\u001b[0;31m     \u001b[0mreference\u001b[0m\u001b[0;34m=\u001b[0m \u001b[0mrefer\u001b[0m\u001b[0;34m[\u001b[0m\u001b[0;36m0\u001b[0m\u001b[0;34m]\u001b[0m\u001b[0;34m.\u001b[0m\u001b[0msplit\u001b[0m\u001b[0;34m(\u001b[0m\u001b[0;34m)\u001b[0m\u001b[0;34m[\u001b[0m\u001b[0;36m0\u001b[0m\u001b[0;34m]\u001b[0m\u001b[0;34m\u001b[0m\u001b[0;34m\u001b[0m\u001b[0m\n\u001b[0m\u001b[1;32m    171\u001b[0m \u001b[0;34m\u001b[0m\u001b[0m\n\u001b[1;32m    172\u001b[0m     \u001b[0;31m#reference -> callback_object\u001b[0m\u001b[0;34m\u001b[0m\u001b[0;34m\u001b[0m\u001b[0;34m\u001b[0m\u001b[0m\n",
      "\u001b[0;31mIndexError\u001b[0m: list index out of range"
     ]
    },
    {
     "data": {
      "image/png": "[encoded data removed]",
      "text/plain": [
       "<Figure size 432x288 with 1 Axes>"
      ]
     },
     "metadata": {
      "needs_background": "light"
     },
     "output_type": "display_data"
    },
    {
     "data": {
      "image/png": "[encoded data removed]",
      "text/plain": [
       "<Figure size 432x288 with 1 Axes>"
      ]
     },
     "metadata": {
      "needs_background": "light"
     },
     "output_type": "display_data"
    },
    {
     "data": {
      "image/png": "[encoded data removed]",
      "text/plain": [
       "<Figure size 432x288 with 1 Axes>"
      ]
     },
     "metadata": {
      "needs_background": "light"
     },
     "output_type": "display_data"
    },
    {
     "data": {
      "image/png": "[encoded data removed]",
      "text/plain": [
       "<Figure size 432x288 with 1 Axes>"
      ]
     },
     "metadata": {
      "needs_background": "light"
     },
     "output_type": "display_data"
    }
   ],
   "source": [
    "for task in tasks_cb:\n",
    "    for step in tasks_cb[task]:\n",
    "        if len(step) >= 2:\n",
    "            cbduration,_title = cbd(step[0], step[1])\n",
    "        else:\n",
    "            cbduration,_title = t_cbd(step[0])\n",
    "\n",
    "        title = task + ':' + _title\n",
    "        len(cbduration)\n",
    "        cbduration_ms=[i/1000 for i in cbduration]\n",
    "        graph(cbduration_ms,title)"
   ]
  },
  {
   "cell_type": "code",
   "execution_count": null,
   "metadata": {},
   "outputs": [
    {
     "data": {
      "text/plain": [
       "1286"
      ]
     },
     "execution_count": 23,
     "metadata": {},
     "output_type": "execute_result"
    },
    {
     "data": {
      "image/png": "[encoded data removed]",
      "text/plain": [
       "<Figure size 432x288 with 1 Axes>"
      ]
     },
     "metadata": {
      "needs_background": "light"
     },
     "output_type": "display_data"
    }
   ],
   "source": [
    "cbduration1,title = cbd(node_awl,topic_sen_gnss_top)\n",
    "cbduration1_ms=[i/1000 for i in cbduration1]\n",
    "graph(cbduration1_ms,title)\n",
    "len(cbduration1)"
   ]
  },
  {
   "cell_type": "code",
   "execution_count": null,
   "metadata": {},
   "outputs": [
    {
     "data": {
      "text/plain": [
       "1286"
      ]
     },
     "execution_count": 24,
     "metadata": {},
     "output_type": "execute_result"
    },
    {
     "data": {
      "image/png": "[encoded data removed]",
      "text/plain": [
       "<Figure size 432x288 with 1 Axes>"
      ]
     },
     "metadata": {
      "needs_background": "light"
     },
     "output_type": "display_data"
    }
   ],
   "source": [
    "comlatency12=com_latency(cb1,cb2)\n",
    "title='node_awl-dyn com latency'\n",
    "comlatency12_ms=[i/1000 for i in comlatency12]\n",
    "graph(comlatency12_ms,title)\n",
    "len(comlatency12)"
   ]
  },
  {
   "cell_type": "code",
   "execution_count": null,
   "metadata": {},
   "outputs": [
    {
     "data": {
      "text/plain": [
       "5241"
      ]
     },
     "execution_count": 25,
     "metadata": {},
     "output_type": "execute_result"
    },
    {
     "data": {
      "image/png": "[encoded data removed]",
      "text/plain": [
       "<Figure size 432x288 with 1 Axes>"
      ]
     },
     "metadata": {
      "needs_background": "light"
     },
     "output_type": "display_data"
    }
   ],
   "source": [
    "cbduration2,title = cbd(node_dyn, topic_awl_odo)\n",
    "cbduration2_ms=[i/1000 for i in cbduration2]\n",
    "graph(cbduration2_ms,title)\n",
    "len(cbduration2)"
   ]
  },
  {
   "cell_type": "code",
   "execution_count": null,
   "metadata": {},
   "outputs": [
    {
     "data": {
      "text/plain": [
       "2621"
      ]
     },
     "execution_count": 26,
     "metadata": {},
     "output_type": "execute_result"
    },
    {
     "data": {
      "image/png": "[encoded data removed]",
      "text/plain": [
       "<Figure size 432x288 with 1 Axes>"
      ]
     },
     "metadata": {
      "needs_background": "light"
     },
     "output_type": "display_data"
    }
   ],
   "source": [
    "comlatency23=com_latency(cb2,cb3)\n",
    "comlatency23_ms=[i/1000 for i in comlatency23]\n",
    "title='node_dyn-lqr com latency'\n",
    "graph(comlatency23_ms,title)\n",
    "len(comlatency23)"
   ]
  },
  {
   "cell_type": "code",
   "execution_count": null,
   "metadata": {},
   "outputs": [
    {
     "data": {
      "text/plain": [
       "2621"
      ]
     },
     "execution_count": 27,
     "metadata": {},
     "output_type": "execute_result"
    },
    {
     "data": {
      "image/png": "[encoded data removed]",
      "text/plain": [
       "<Figure size 432x288 with 1 Axes>"
      ]
     },
     "metadata": {
      "needs_background": "light"
     },
     "output_type": "display_data"
    }
   ],
   "source": [
    "cbduration3,title = cbd(node_lqr,topic_dyn_glo)\n",
    "cbduration3_ms=[i/1000 for i in cbduration3]\n",
    "graph(cbduration3_ms,title)\n",
    "len(cbduration3)"
   ]
  },
  {
   "cell_type": "code",
   "execution_count": null,
   "metadata": {},
   "outputs": [
    {
     "ename": "ValueError",
     "evalue": "max() arg is an empty sequence",
     "output_type": "error",
     "traceback": [
      "\u001b[0;31m---------------------------------------------------------------------------\u001b[0m",
      "\u001b[0;31mValueError\u001b[0m                                Traceback (most recent call last)",
      "\u001b[0;32m<ipython-input-28-af094bd48772>\u001b[0m in \u001b[0;36m<module>\u001b[0;34m\u001b[0m\n\u001b[1;32m      2\u001b[0m \u001b[0mtitle\u001b[0m\u001b[0;34m=\u001b[0m\u001b[0;34m'node_lqr-csl com latency'\u001b[0m\u001b[0;34m\u001b[0m\u001b[0;34m\u001b[0m\u001b[0m\n\u001b[1;32m      3\u001b[0m \u001b[0mcomlatency34_ms\u001b[0m\u001b[0;34m=\u001b[0m\u001b[0;34m[\u001b[0m\u001b[0mi\u001b[0m\u001b[0;34m/\u001b[0m\u001b[0;36m1000\u001b[0m \u001b[0;32mfor\u001b[0m \u001b[0mi\u001b[0m \u001b[0;32min\u001b[0m \u001b[0mcomlatency34\u001b[0m\u001b[0;34m]\u001b[0m\u001b[0;34m\u001b[0m\u001b[0;34m\u001b[0m\u001b[0m\n\u001b[0;32m----> 4\u001b[0;31m \u001b[0mgraph\u001b[0m\u001b[0;34m(\u001b[0m\u001b[0mcomlatency34_ms\u001b[0m\u001b[0;34m,\u001b[0m\u001b[0mtitle\u001b[0m\u001b[0;34m)\u001b[0m\u001b[0;34m\u001b[0m\u001b[0;34m\u001b[0m\u001b[0m\n\u001b[0m\u001b[1;32m      5\u001b[0m \u001b[0mlen\u001b[0m\u001b[0;34m(\u001b[0m\u001b[0mcomlatency34\u001b[0m\u001b[0;34m)\u001b[0m\u001b[0;34m\u001b[0m\u001b[0;34m\u001b[0m\u001b[0m\n",
      "\u001b[0;32m<ipython-input-17-0054b15ae5ba>\u001b[0m in \u001b[0;36mgraph\u001b[0;34m(latency, title)\u001b[0m\n\u001b[1;32m     10\u001b[0m     \u001b[0mfig\u001b[0m\u001b[0;34m,\u001b[0m \u001b[0max\u001b[0m \u001b[0;34m=\u001b[0m \u001b[0mplt\u001b[0m\u001b[0;34m.\u001b[0m\u001b[0msubplots\u001b[0m\u001b[0;34m(\u001b[0m\u001b[0;36m1\u001b[0m\u001b[0;34m,\u001b[0m \u001b[0;36m1\u001b[0m\u001b[0;34m)\u001b[0m\u001b[0;34m\u001b[0m\u001b[0;34m\u001b[0m\u001b[0m\n\u001b[1;32m     11\u001b[0m     \u001b[0max\u001b[0m\u001b[0;34m.\u001b[0m\u001b[0mxaxis\u001b[0m\u001b[0;34m.\u001b[0m\u001b[0mset_major_formatter\u001b[0m\u001b[0;34m(\u001b[0m\u001b[0mplt\u001b[0m\u001b[0;34m.\u001b[0m\u001b[0mFuncFormatter\u001b[0m\u001b[0;34m(\u001b[0m\u001b[0;32mlambda\u001b[0m \u001b[0mx\u001b[0m\u001b[0;34m,\u001b[0m \u001b[0mloc\u001b[0m\u001b[0;34m:\u001b[0m \u001b[0;34m\"{:,}\"\u001b[0m\u001b[0;34m.\u001b[0m\u001b[0mformat\u001b[0m\u001b[0;34m(\u001b[0m\u001b[0mint\u001b[0m\u001b[0;34m(\u001b[0m\u001b[0mx\u001b[0m\u001b[0;34m)\u001b[0m\u001b[0;34m)\u001b[0m\u001b[0;34m)\u001b[0m\u001b[0;34m)\u001b[0m\u001b[0;34m\u001b[0m\u001b[0;34m\u001b[0m\u001b[0m\n\u001b[0;32m---> 12\u001b[0;31m     \u001b[0mplt\u001b[0m\u001b[0;34m.\u001b[0m\u001b[0mhist\u001b[0m\u001b[0;34m(\u001b[0m\u001b[0mlatency\u001b[0m\u001b[0;34m,\u001b[0m \u001b[0mbins\u001b[0m\u001b[0;34m=\u001b[0m\u001b[0;36m200\u001b[0m\u001b[0;34m,\u001b[0m \u001b[0mlabel\u001b[0m\u001b[0;34m=\u001b[0m\u001b[0mlabel\u001b[0m\u001b[0;34m(\u001b[0m\u001b[0mlatency\u001b[0m\u001b[0;34m)\u001b[0m\u001b[0;34m)\u001b[0m\u001b[0;34m\u001b[0m\u001b[0;34m\u001b[0m\u001b[0m\n\u001b[0m\u001b[1;32m     13\u001b[0m     \u001b[0mplt\u001b[0m\u001b[0;34m.\u001b[0m\u001b[0mlegend\u001b[0m\u001b[0;34m(\u001b[0m\u001b[0;34m)\u001b[0m\u001b[0;34m\u001b[0m\u001b[0;34m\u001b[0m\u001b[0m\n\u001b[1;32m     14\u001b[0m     \u001b[0mplt\u001b[0m\u001b[0;34m.\u001b[0m\u001b[0mtitle\u001b[0m\u001b[0;34m(\u001b[0m\u001b[0;34m\"%s\"\u001b[0m\u001b[0;34m%\u001b[0m\u001b[0mtitle\u001b[0m\u001b[0;34m,\u001b[0m \u001b[0mfontsize\u001b[0m\u001b[0;34m=\u001b[0m\u001b[0;36m15\u001b[0m\u001b[0;34m)\u001b[0m\u001b[0;34m\u001b[0m\u001b[0;34m\u001b[0m\u001b[0m\n",
      "\u001b[0;32m<ipython-input-17-0054b15ae5ba>\u001b[0m in \u001b[0;36mlabel\u001b[0;34m(latency)\u001b[0m\n\u001b[1;32m      5\u001b[0m \u001b[0;31m#plot a label as ms\u001b[0m\u001b[0;34m\u001b[0m\u001b[0;34m\u001b[0m\u001b[0;34m\u001b[0m\u001b[0m\n\u001b[1;32m      6\u001b[0m \u001b[0;32mdef\u001b[0m \u001b[0mlabel\u001b[0m\u001b[0;34m(\u001b[0m\u001b[0mlatency\u001b[0m\u001b[0;34m)\u001b[0m\u001b[0;34m:\u001b[0m\u001b[0;34m\u001b[0m\u001b[0;34m\u001b[0m\u001b[0m\n\u001b[0;32m----> 7\u001b[0;31m     \u001b[0;32mreturn\u001b[0m \u001b[0;34m'max:{:.02f}ms, mean:{:.02f}ms'\u001b[0m\u001b[0;34m.\u001b[0m\u001b[0mformat\u001b[0m\u001b[0;34m(\u001b[0m\u001b[0mmax\u001b[0m\u001b[0;34m(\u001b[0m\u001b[0mlatency\u001b[0m\u001b[0;34m)\u001b[0m\u001b[0;34m,\u001b[0m\u001b[0mnp\u001b[0m\u001b[0;34m.\u001b[0m\u001b[0mmean\u001b[0m\u001b[0;34m(\u001b[0m\u001b[0mlatency\u001b[0m\u001b[0;34m)\u001b[0m\u001b[0;34m)\u001b[0m\u001b[0;34m\u001b[0m\u001b[0;34m\u001b[0m\u001b[0m\n\u001b[0m\u001b[1;32m      8\u001b[0m \u001b[0;31m#plot a graph as ms\u001b[0m\u001b[0;34m\u001b[0m\u001b[0;34m\u001b[0m\u001b[0;34m\u001b[0m\u001b[0m\n\u001b[1;32m      9\u001b[0m \u001b[0;32mdef\u001b[0m \u001b[0mgraph\u001b[0m\u001b[0;34m(\u001b[0m\u001b[0mlatency\u001b[0m\u001b[0;34m,\u001b[0m \u001b[0mtitle\u001b[0m\u001b[0;34m)\u001b[0m\u001b[0;34m:\u001b[0m\u001b[0;34m\u001b[0m\u001b[0;34m\u001b[0m\u001b[0m\n",
      "\u001b[0;31mValueError\u001b[0m: max() arg is an empty sequence"
     ]
    },
    {
     "data": {
      "image/png": "[encoded data removed]",
      "text/plain": [
       "<Figure size 432x288 with 1 Axes>"
      ]
     },
     "metadata": {
      "needs_background": "light"
     },
     "output_type": "display_data"
    }
   ],
   "source": [
    "comlatency34=com_latency(cb3,cb4)\n",
    "title='node_lqr-csl com latency'\n",
    "comlatency34_ms=[i/1000 for i in comlatency34]\n",
    "graph(comlatency34_ms,title)\n",
    "len(comlatency34)"
   ]
  },
  {
   "cell_type": "code",
   "execution_count": null,
   "metadata": {},
   "outputs": [
    {
     "ename": "ValueError",
     "evalue": "max() arg is an empty sequence",
     "output_type": "error",
     "traceback": [
      "\u001b[0;31m---------------------------------------------------------------------------\u001b[0m",
      "\u001b[0;31mValueError\u001b[0m                                Traceback (most recent call last)",
      "\u001b[0;32m<ipython-input-30-cab7466d684f>\u001b[0m in \u001b[0;36m<module>\u001b[0;34m\u001b[0m\n\u001b[1;32m      1\u001b[0m \u001b[0mcbduration4\u001b[0m\u001b[0;34m,\u001b[0m\u001b[0mtitle\u001b[0m \u001b[0;34m=\u001b[0m \u001b[0mcbd\u001b[0m\u001b[0;34m(\u001b[0m\u001b[0mnode_csl\u001b[0m\u001b[0;34m,\u001b[0m\u001b[0mtopic_cpool_cmd\u001b[0m\u001b[0;34m)\u001b[0m\u001b[0;34m\u001b[0m\u001b[0;34m\u001b[0m\u001b[0m\n\u001b[1;32m      2\u001b[0m \u001b[0mcbduration4_ms\u001b[0m\u001b[0;34m=\u001b[0m\u001b[0;34m[\u001b[0m\u001b[0mi\u001b[0m\u001b[0;34m/\u001b[0m\u001b[0;36m1000\u001b[0m \u001b[0;32mfor\u001b[0m \u001b[0mi\u001b[0m \u001b[0;32min\u001b[0m \u001b[0mcbduration4\u001b[0m\u001b[0;34m]\u001b[0m\u001b[0;34m\u001b[0m\u001b[0;34m\u001b[0m\u001b[0m\n\u001b[0;32m----> 3\u001b[0;31m \u001b[0mgraph\u001b[0m\u001b[0;34m(\u001b[0m\u001b[0mcbduration4_ms\u001b[0m\u001b[0;34m,\u001b[0m\u001b[0mtitle\u001b[0m\u001b[0;34m)\u001b[0m\u001b[0;34m\u001b[0m\u001b[0;34m\u001b[0m\u001b[0m\n\u001b[0m\u001b[1;32m      4\u001b[0m \u001b[0mlen\u001b[0m\u001b[0;34m(\u001b[0m\u001b[0mcbduration4\u001b[0m\u001b[0;34m)\u001b[0m\u001b[0;34m\u001b[0m\u001b[0;34m\u001b[0m\u001b[0m\n",
      "\u001b[0;32m<ipython-input-17-0054b15ae5ba>\u001b[0m in \u001b[0;36mgraph\u001b[0;34m(latency, title)\u001b[0m\n\u001b[1;32m     10\u001b[0m     \u001b[0mfig\u001b[0m\u001b[0;34m,\u001b[0m \u001b[0max\u001b[0m \u001b[0;34m=\u001b[0m \u001b[0mplt\u001b[0m\u001b[0;34m.\u001b[0m\u001b[0msubplots\u001b[0m\u001b[0;34m(\u001b[0m\u001b[0;36m1\u001b[0m\u001b[0;34m,\u001b[0m \u001b[0;36m1\u001b[0m\u001b[0;34m)\u001b[0m\u001b[0;34m\u001b[0m\u001b[0;34m\u001b[0m\u001b[0m\n\u001b[1;32m     11\u001b[0m     \u001b[0max\u001b[0m\u001b[0;34m.\u001b[0m\u001b[0mxaxis\u001b[0m\u001b[0;34m.\u001b[0m\u001b[0mset_major_formatter\u001b[0m\u001b[0;34m(\u001b[0m\u001b[0mplt\u001b[0m\u001b[0;34m.\u001b[0m\u001b[0mFuncFormatter\u001b[0m\u001b[0;34m(\u001b[0m\u001b[0;32mlambda\u001b[0m \u001b[0mx\u001b[0m\u001b[0;34m,\u001b[0m \u001b[0mloc\u001b[0m\u001b[0;34m:\u001b[0m \u001b[0;34m\"{:,}\"\u001b[0m\u001b[0;34m.\u001b[0m\u001b[0mformat\u001b[0m\u001b[0;34m(\u001b[0m\u001b[0mint\u001b[0m\u001b[0;34m(\u001b[0m\u001b[0mx\u001b[0m\u001b[0;34m)\u001b[0m\u001b[0;34m)\u001b[0m\u001b[0;34m)\u001b[0m\u001b[0;34m)\u001b[0m\u001b[0;34m\u001b[0m\u001b[0;34m\u001b[0m\u001b[0m\n\u001b[0;32m---> 12\u001b[0;31m     \u001b[0mplt\u001b[0m\u001b[0;34m.\u001b[0m\u001b[0mhist\u001b[0m\u001b[0;34m(\u001b[0m\u001b[0mlatency\u001b[0m\u001b[0;34m,\u001b[0m \u001b[0mbins\u001b[0m\u001b[0;34m=\u001b[0m\u001b[0;36m200\u001b[0m\u001b[0;34m,\u001b[0m \u001b[0mlabel\u001b[0m\u001b[0;34m=\u001b[0m\u001b[0mlabel\u001b[0m\u001b[0;34m(\u001b[0m\u001b[0mlatency\u001b[0m\u001b[0;34m)\u001b[0m\u001b[0;34m)\u001b[0m\u001b[0;34m\u001b[0m\u001b[0;34m\u001b[0m\u001b[0m\n\u001b[0m\u001b[1;32m     13\u001b[0m     \u001b[0mplt\u001b[0m\u001b[0;34m.\u001b[0m\u001b[0mlegend\u001b[0m\u001b[0;34m(\u001b[0m\u001b[0;34m)\u001b[0m\u001b[0;34m\u001b[0m\u001b[0;34m\u001b[0m\u001b[0m\n\u001b[1;32m     14\u001b[0m     \u001b[0mplt\u001b[0m\u001b[0;34m.\u001b[0m\u001b[0mtitle\u001b[0m\u001b[0;34m(\u001b[0m\u001b[0;34m\"%s\"\u001b[0m\u001b[0;34m%\u001b[0m\u001b[0mtitle\u001b[0m\u001b[0;34m,\u001b[0m \u001b[0mfontsize\u001b[0m\u001b[0;34m=\u001b[0m\u001b[0;36m15\u001b[0m\u001b[0;34m)\u001b[0m\u001b[0;34m\u001b[0m\u001b[0;34m\u001b[0m\u001b[0m\n",
      "\u001b[0;32m<ipython-input-17-0054b15ae5ba>\u001b[0m in \u001b[0;36mlabel\u001b[0;34m(latency)\u001b[0m\n\u001b[1;32m      5\u001b[0m \u001b[0;31m#plot a label as ms\u001b[0m\u001b[0;34m\u001b[0m\u001b[0;34m\u001b[0m\u001b[0;34m\u001b[0m\u001b[0m\n\u001b[1;32m      6\u001b[0m \u001b[0;32mdef\u001b[0m \u001b[0mlabel\u001b[0m\u001b[0;34m(\u001b[0m\u001b[0mlatency\u001b[0m\u001b[0;34m)\u001b[0m\u001b[0;34m:\u001b[0m\u001b[0;34m\u001b[0m\u001b[0;34m\u001b[0m\u001b[0m\n\u001b[0;32m----> 7\u001b[0;31m     \u001b[0;32mreturn\u001b[0m \u001b[0;34m'max:{:.02f}ms, mean:{:.02f}ms'\u001b[0m\u001b[0;34m.\u001b[0m\u001b[0mformat\u001b[0m\u001b[0;34m(\u001b[0m\u001b[0mmax\u001b[0m\u001b[0;34m(\u001b[0m\u001b[0mlatency\u001b[0m\u001b[0;34m)\u001b[0m\u001b[0;34m,\u001b[0m\u001b[0mnp\u001b[0m\u001b[0;34m.\u001b[0m\u001b[0mmean\u001b[0m\u001b[0;34m(\u001b[0m\u001b[0mlatency\u001b[0m\u001b[0;34m)\u001b[0m\u001b[0;34m)\u001b[0m\u001b[0;34m\u001b[0m\u001b[0;34m\u001b[0m\u001b[0m\n\u001b[0m\u001b[1;32m      8\u001b[0m \u001b[0;31m#plot a graph as ms\u001b[0m\u001b[0;34m\u001b[0m\u001b[0;34m\u001b[0m\u001b[0;34m\u001b[0m\u001b[0m\n\u001b[1;32m      9\u001b[0m \u001b[0;32mdef\u001b[0m \u001b[0mgraph\u001b[0m\u001b[0;34m(\u001b[0m\u001b[0mlatency\u001b[0m\u001b[0;34m,\u001b[0m \u001b[0mtitle\u001b[0m\u001b[0;34m)\u001b[0m\u001b[0;34m:\u001b[0m\u001b[0;34m\u001b[0m\u001b[0;34m\u001b[0m\u001b[0m\n",
      "\u001b[0;31mValueError\u001b[0m: max() arg is an empty sequence"
     ]
    },
    {
     "data": {
      "image/png": "[encoded data removed]",
      "text/plain": [
       "<Figure size 432x288 with 1 Axes>"
      ]
     },
     "metadata": {
      "needs_background": "light"
     },
     "output_type": "display_data"
    }
   ],
   "source": [
    "cbduration4,title = cbd(node_csl,topic_cpool_cmd)\n",
    "cbduration4_ms=[i/1000 for i in cbduration4]\n",
    "graph(cbduration4_ms,title)\n",
    "len(cbduration4)"
   ]
  },
  {
   "cell_type": "code",
   "execution_count": null,
   "metadata": {},
   "outputs": [
    {
     "ename": "ValueError",
     "evalue": "max() arg is an empty sequence",
     "output_type": "error",
     "traceback": [
      "\u001b[0;31m---------------------------------------------------------------------------\u001b[0m",
      "\u001b[0;31mValueError\u001b[0m                                Traceback (most recent call last)",
      "\u001b[0;32m<ipython-input-31-2d7d241f4ad7>\u001b[0m in \u001b[0;36m<module>\u001b[0;34m\u001b[0m\n\u001b[1;32m      2\u001b[0m \u001b[0mtitle\u001b[0m\u001b[0;34m=\u001b[0m\u001b[0;34m'node4-5 com latency'\u001b[0m\u001b[0;34m\u001b[0m\u001b[0;34m\u001b[0m\u001b[0m\n\u001b[1;32m      3\u001b[0m \u001b[0mcomlatency45_ms\u001b[0m\u001b[0;34m=\u001b[0m\u001b[0;34m[\u001b[0m\u001b[0mi\u001b[0m\u001b[0;34m/\u001b[0m\u001b[0;36m1000\u001b[0m \u001b[0;32mfor\u001b[0m \u001b[0mi\u001b[0m \u001b[0;32min\u001b[0m \u001b[0mcomlatency45\u001b[0m\u001b[0;34m]\u001b[0m\u001b[0;34m\u001b[0m\u001b[0;34m\u001b[0m\u001b[0m\n\u001b[0;32m----> 4\u001b[0;31m \u001b[0mgraph\u001b[0m\u001b[0;34m(\u001b[0m\u001b[0mcomlatency45_ms\u001b[0m\u001b[0;34m,\u001b[0m\u001b[0mtitle\u001b[0m\u001b[0;34m)\u001b[0m\u001b[0;34m\u001b[0m\u001b[0;34m\u001b[0m\u001b[0m\n\u001b[0m\u001b[1;32m      5\u001b[0m \u001b[0mlen\u001b[0m\u001b[0;34m(\u001b[0m\u001b[0mcomlatency45\u001b[0m\u001b[0;34m)\u001b[0m\u001b[0;34m\u001b[0m\u001b[0;34m\u001b[0m\u001b[0m\n",
      "\u001b[0;32m<ipython-input-17-0054b15ae5ba>\u001b[0m in \u001b[0;36mgraph\u001b[0;34m(latency, title)\u001b[0m\n\u001b[1;32m     10\u001b[0m     \u001b[0mfig\u001b[0m\u001b[0;34m,\u001b[0m \u001b[0max\u001b[0m \u001b[0;34m=\u001b[0m \u001b[0mplt\u001b[0m\u001b[0;34m.\u001b[0m\u001b[0msubplots\u001b[0m\u001b[0;34m(\u001b[0m\u001b[0;36m1\u001b[0m\u001b[0;34m,\u001b[0m \u001b[0;36m1\u001b[0m\u001b[0;34m)\u001b[0m\u001b[0;34m\u001b[0m\u001b[0;34m\u001b[0m\u001b[0m\n\u001b[1;32m     11\u001b[0m     \u001b[0max\u001b[0m\u001b[0;34m.\u001b[0m\u001b[0mxaxis\u001b[0m\u001b[0;34m.\u001b[0m\u001b[0mset_major_formatter\u001b[0m\u001b[0;34m(\u001b[0m\u001b[0mplt\u001b[0m\u001b[0;34m.\u001b[0m\u001b[0mFuncFormatter\u001b[0m\u001b[0;34m(\u001b[0m\u001b[0;32mlambda\u001b[0m \u001b[0mx\u001b[0m\u001b[0;34m,\u001b[0m \u001b[0mloc\u001b[0m\u001b[0;34m:\u001b[0m \u001b[0;34m\"{:,}\"\u001b[0m\u001b[0;34m.\u001b[0m\u001b[0mformat\u001b[0m\u001b[0;34m(\u001b[0m\u001b[0mint\u001b[0m\u001b[0;34m(\u001b[0m\u001b[0mx\u001b[0m\u001b[0;34m)\u001b[0m\u001b[0;34m)\u001b[0m\u001b[0;34m)\u001b[0m\u001b[0;34m)\u001b[0m\u001b[0;34m\u001b[0m\u001b[0;34m\u001b[0m\u001b[0m\n\u001b[0;32m---> 12\u001b[0;31m     \u001b[0mplt\u001b[0m\u001b[0;34m.\u001b[0m\u001b[0mhist\u001b[0m\u001b[0;34m(\u001b[0m\u001b[0mlatency\u001b[0m\u001b[0;34m,\u001b[0m \u001b[0mbins\u001b[0m\u001b[0;34m=\u001b[0m\u001b[0;36m200\u001b[0m\u001b[0;34m,\u001b[0m \u001b[0mlabel\u001b[0m\u001b[0;34m=\u001b[0m\u001b[0mlabel\u001b[0m\u001b[0;34m(\u001b[0m\u001b[0mlatency\u001b[0m\u001b[0;34m)\u001b[0m\u001b[0;34m)\u001b[0m\u001b[0;34m\u001b[0m\u001b[0;34m\u001b[0m\u001b[0m\n\u001b[0m\u001b[1;32m     13\u001b[0m     \u001b[0mplt\u001b[0m\u001b[0;34m.\u001b[0m\u001b[0mlegend\u001b[0m\u001b[0;34m(\u001b[0m\u001b[0;34m)\u001b[0m\u001b[0;34m\u001b[0m\u001b[0;34m\u001b[0m\u001b[0m\n\u001b[1;32m     14\u001b[0m     \u001b[0mplt\u001b[0m\u001b[0;34m.\u001b[0m\u001b[0mtitle\u001b[0m\u001b[0;34m(\u001b[0m\u001b[0;34m\"%s\"\u001b[0m\u001b[0;34m%\u001b[0m\u001b[0mtitle\u001b[0m\u001b[0;34m,\u001b[0m \u001b[0mfontsize\u001b[0m\u001b[0;34m=\u001b[0m\u001b[0;36m15\u001b[0m\u001b[0;34m)\u001b[0m\u001b[0;34m\u001b[0m\u001b[0;34m\u001b[0m\u001b[0m\n",
      "\u001b[0;32m<ipython-input-17-0054b15ae5ba>\u001b[0m in \u001b[0;36mlabel\u001b[0;34m(latency)\u001b[0m\n\u001b[1;32m      5\u001b[0m \u001b[0;31m#plot a label as ms\u001b[0m\u001b[0;34m\u001b[0m\u001b[0;34m\u001b[0m\u001b[0;34m\u001b[0m\u001b[0m\n\u001b[1;32m      6\u001b[0m \u001b[0;32mdef\u001b[0m \u001b[0mlabel\u001b[0m\u001b[0;34m(\u001b[0m\u001b[0mlatency\u001b[0m\u001b[0;34m)\u001b[0m\u001b[0;34m:\u001b[0m\u001b[0;34m\u001b[0m\u001b[0;34m\u001b[0m\u001b[0m\n\u001b[0;32m----> 7\u001b[0;31m     \u001b[0;32mreturn\u001b[0m \u001b[0;34m'max:{:.02f}ms, mean:{:.02f}ms'\u001b[0m\u001b[0;34m.\u001b[0m\u001b[0mformat\u001b[0m\u001b[0;34m(\u001b[0m\u001b[0mmax\u001b[0m\u001b[0;34m(\u001b[0m\u001b[0mlatency\u001b[0m\u001b[0;34m)\u001b[0m\u001b[0;34m,\u001b[0m\u001b[0mnp\u001b[0m\u001b[0;34m.\u001b[0m\u001b[0mmean\u001b[0m\u001b[0;34m(\u001b[0m\u001b[0mlatency\u001b[0m\u001b[0;34m)\u001b[0m\u001b[0;34m)\u001b[0m\u001b[0;34m\u001b[0m\u001b[0;34m\u001b[0m\u001b[0m\n\u001b[0m\u001b[1;32m      8\u001b[0m \u001b[0;31m#plot a graph as ms\u001b[0m\u001b[0;34m\u001b[0m\u001b[0;34m\u001b[0m\u001b[0;34m\u001b[0m\u001b[0m\n\u001b[1;32m      9\u001b[0m \u001b[0;32mdef\u001b[0m \u001b[0mgraph\u001b[0m\u001b[0;34m(\u001b[0m\u001b[0mlatency\u001b[0m\u001b[0;34m,\u001b[0m \u001b[0mtitle\u001b[0m\u001b[0;34m)\u001b[0m\u001b[0;34m:\u001b[0m\u001b[0;34m\u001b[0m\u001b[0;34m\u001b[0m\u001b[0m\n",
      "\u001b[0;31mValueError\u001b[0m: max() arg is an empty sequence"
     ]
    },
    {
     "data": {
      "image/png": "[encoded data removed]",
      "text/plain": [
       "<Figure size 432x288 with 1 Axes>"
      ]
     },
     "metadata": {
      "needs_background": "light"
     },
     "output_type": "display_data"
    }
   ],
   "source": [
    "comlatency45=com_latency(cb4,cb5)\n",
    "title='node4-5 com latency'\n",
    "comlatency45_ms=[i/1000 for i in comlatency45]\n",
    "graph(comlatency45_ms,title)\n",
    "len(comlatency45)"
   ]
  },
  {
   "cell_type": "code",
   "execution_count": null,
   "metadata": {
    "scrolled": true
   },
   "outputs": [
    {
     "ename": "ValueError",
     "evalue": "max() arg is an empty sequence",
     "output_type": "error",
     "traceback": [
      "\u001b[0;31m---------------------------------------------------------------------------\u001b[0m",
      "\u001b[0;31mValueError\u001b[0m                                Traceback (most recent call last)",
      "\u001b[1;32m/home/usrg/nif/tracing/e2elatency.ipynb Cell 17'\u001b[0m in \u001b[0;36m<cell line: 3>\u001b[0;34m()\u001b[0m\n\u001b[1;32m      <a href='vscode-notebook-cell:/home/usrg/nif/tracing/e2elatency.ipynb#ch0000016?line=0'>1</a>\u001b[0m cbduration5,title \u001b[39m=\u001b[39m cbd(node_acn,topic_csl_out_dac)\n\u001b[1;32m      <a href='vscode-notebook-cell:/home/usrg/nif/tracing/e2elatency.ipynb#ch0000016?line=1'>2</a>\u001b[0m cbduration5_ms\u001b[39m=\u001b[39m[i\u001b[39m/\u001b[39m\u001b[39m1000\u001b[39m \u001b[39mfor\u001b[39;00m i \u001b[39min\u001b[39;00m cbduration5]\n\u001b[0;32m----> <a href='vscode-notebook-cell:/home/usrg/nif/tracing/e2elatency.ipynb#ch0000016?line=2'>3</a>\u001b[0m graph(cbduration5_ms,title)\n\u001b[1;32m      <a href='vscode-notebook-cell:/home/usrg/nif/tracing/e2elatency.ipynb#ch0000016?line=3'>4</a>\u001b[0m \u001b[39mlen\u001b[39m(cbduration5)\n",
      "\u001b[1;32m/home/usrg/nif/tracing/e2elatency.ipynb Cell 3'\u001b[0m in \u001b[0;36mgraph\u001b[0;34m(latency, title)\u001b[0m\n\u001b[1;32m     <a href='vscode-notebook-cell:/home/usrg/nif/tracing/e2elatency.ipynb#ch0000002?line=9'>10</a>\u001b[0m fig, ax \u001b[39m=\u001b[39m plt\u001b[39m.\u001b[39msubplots(\u001b[39m1\u001b[39m, \u001b[39m1\u001b[39m)\n\u001b[1;32m     <a href='vscode-notebook-cell:/home/usrg/nif/tracing/e2elatency.ipynb#ch0000002?line=10'>11</a>\u001b[0m ax\u001b[39m.\u001b[39mxaxis\u001b[39m.\u001b[39mset_major_formatter(plt\u001b[39m.\u001b[39mFuncFormatter(\u001b[39mlambda\u001b[39;00m x, loc: \u001b[39m\"\u001b[39m\u001b[39m{:,}\u001b[39;00m\u001b[39m\"\u001b[39m\u001b[39m.\u001b[39mformat(\u001b[39mint\u001b[39m(x))))\n\u001b[0;32m---> <a href='vscode-notebook-cell:/home/usrg/nif/tracing/e2elatency.ipynb#ch0000002?line=11'>12</a>\u001b[0m plt\u001b[39m.\u001b[39mhist(latency, bins\u001b[39m=\u001b[39m\u001b[39m200\u001b[39m, label\u001b[39m=\u001b[39mlabel(latency))\n\u001b[1;32m     <a href='vscode-notebook-cell:/home/usrg/nif/tracing/e2elatency.ipynb#ch0000002?line=12'>13</a>\u001b[0m plt\u001b[39m.\u001b[39mlegend()\n\u001b[1;32m     <a href='vscode-notebook-cell:/home/usrg/nif/tracing/e2elatency.ipynb#ch0000002?line=13'>14</a>\u001b[0m plt\u001b[39m.\u001b[39mtitle(\u001b[39m\"\u001b[39m\u001b[39m%s\u001b[39;00m\u001b[39m\"\u001b[39m\u001b[39m%\u001b[39mtitle, fontsize\u001b[39m=\u001b[39m\u001b[39m15\u001b[39m)\n",
      "\u001b[1;32m/home/usrg/nif/tracing/e2elatency.ipynb Cell 3'\u001b[0m in \u001b[0;36mlabel\u001b[0;34m(latency)\u001b[0m\n\u001b[1;32m      <a href='vscode-notebook-cell:/home/usrg/nif/tracing/e2elatency.ipynb#ch0000002?line=5'>6</a>\u001b[0m \u001b[39mdef\u001b[39;00m \u001b[39mlabel\u001b[39m(latency):\n\u001b[0;32m----> <a href='vscode-notebook-cell:/home/usrg/nif/tracing/e2elatency.ipynb#ch0000002?line=6'>7</a>\u001b[0m     \u001b[39mreturn\u001b[39;00m \u001b[39m'\u001b[39m\u001b[39mmax:\u001b[39m\u001b[39m{:.02f}\u001b[39;00m\u001b[39mms, mean:\u001b[39m\u001b[39m{:.02f}\u001b[39;00m\u001b[39mms\u001b[39m\u001b[39m'\u001b[39m\u001b[39m.\u001b[39mformat(\u001b[39mmax\u001b[39;49m(latency),np\u001b[39m.\u001b[39mmean(latency))\n",
      "\u001b[0;31mValueError\u001b[0m: max() arg is an empty sequence"
     ]
    },
    {
     "data": {
      "image/png": "[encoded data removed]",
      "text/plain": [
       "<Figure size 432x288 with 1 Axes>"
      ]
     },
     "metadata": {
      "needs_background": "light"
     },
     "output_type": "display_data"
    }
   ],
   "source": [
    "cbduration5,title = cbd(node_acn,topic_csl_out_dac)\n",
    "cbduration5_ms=[i/1000 for i in cbduration5]\n",
    "graph(cbduration5_ms,title)\n",
    "len(cbduration5)"
   ]
  },
  {
   "cell_type": "code",
   "execution_count": null,
   "metadata": {},
   "outputs": [
    {
     "ename": "NameError",
     "evalue": "name 'cb6' is not defined",
     "output_type": "error",
     "traceback": [
      "\u001b[0;31m---------------------------------------------------------------------------\u001b[0m",
      "\u001b[0;31mNameError\u001b[0m                                 Traceback (most recent call last)",
      "\u001b[0;32m<ipython-input-32-fed0dac4c490>\u001b[0m in \u001b[0;36m<module>\u001b[0;34m\u001b[0m\n\u001b[0;32m----> 1\u001b[0;31m \u001b[0mcomlatency56\u001b[0m\u001b[0;34m=\u001b[0m\u001b[0mcom_latency\u001b[0m\u001b[0;34m(\u001b[0m\u001b[0mcb5\u001b[0m\u001b[0;34m,\u001b[0m\u001b[0mcb6\u001b[0m\u001b[0;34m)\u001b[0m\u001b[0;34m\u001b[0m\u001b[0;34m\u001b[0m\u001b[0m\n\u001b[0m\u001b[1;32m      2\u001b[0m \u001b[0mtitle\u001b[0m\u001b[0;34m=\u001b[0m\u001b[0;34m'node5-6 com latency'\u001b[0m\u001b[0;34m\u001b[0m\u001b[0;34m\u001b[0m\u001b[0m\n\u001b[1;32m      3\u001b[0m \u001b[0mcomlatency56_ms\u001b[0m\u001b[0;34m=\u001b[0m\u001b[0;34m[\u001b[0m\u001b[0mi\u001b[0m\u001b[0;34m/\u001b[0m\u001b[0;36m1000\u001b[0m \u001b[0;32mfor\u001b[0m \u001b[0mi\u001b[0m \u001b[0;32min\u001b[0m \u001b[0mcomlatency56\u001b[0m\u001b[0;34m]\u001b[0m\u001b[0;34m\u001b[0m\u001b[0;34m\u001b[0m\u001b[0m\n\u001b[1;32m      4\u001b[0m \u001b[0mgraph\u001b[0m\u001b[0;34m(\u001b[0m\u001b[0mcomlatency56_ms\u001b[0m\u001b[0;34m,\u001b[0m\u001b[0mtitle\u001b[0m\u001b[0;34m)\u001b[0m\u001b[0;34m\u001b[0m\u001b[0;34m\u001b[0m\u001b[0m\n\u001b[1;32m      5\u001b[0m \u001b[0mlen\u001b[0m\u001b[0;34m(\u001b[0m\u001b[0mcomlatency56\u001b[0m\u001b[0;34m)\u001b[0m\u001b[0;34m\u001b[0m\u001b[0;34m\u001b[0m\u001b[0m\n",
      "\u001b[0;31mNameError\u001b[0m: name 'cb6' is not defined"
     ]
    }
   ],
   "source": [
    "comlatency56=com_latency(cb5,cb6)\n",
    "title='node5-6 com latency'\n",
    "comlatency56_ms=[i/1000 for i in comlatency56]\n",
    "graph(comlatency56_ms,title)\n",
    "len(comlatency56)"
   ]
  },
  {
   "cell_type": "code",
   "execution_count": null,
   "metadata": {},
   "outputs": [
    {
     "ename": "IndexError",
     "evalue": "list index out of range",
     "output_type": "error",
     "traceback": [
      "\u001b[0;31m---------------------------------------------------------------------------\u001b[0m",
      "\u001b[0;31mIndexError\u001b[0m                                Traceback (most recent call last)",
      "\u001b[0;32m<ipython-input-33-96682735361e>\u001b[0m in \u001b[0;36m<module>\u001b[0;34m\u001b[0m\n\u001b[0;32m----> 1\u001b[0;31m \u001b[0mcbduration6\u001b[0m\u001b[0;34m,\u001b[0m\u001b[0mtitle\u001b[0m \u001b[0;34m=\u001b[0m \u001b[0mcbd\u001b[0m\u001b[0;34m(\u001b[0m\u001b[0mnode_ssc\u001b[0m\u001b[0;34m,\u001b[0m\u001b[0mtopic_joy_acc\u001b[0m\u001b[0;34m)\u001b[0m\u001b[0;34m\u001b[0m\u001b[0;34m\u001b[0m\u001b[0m\n\u001b[0m\u001b[1;32m      2\u001b[0m \u001b[0mcbduration6_ms\u001b[0m\u001b[0;34m=\u001b[0m\u001b[0;34m[\u001b[0m\u001b[0mi\u001b[0m\u001b[0;34m/\u001b[0m\u001b[0;36m1000\u001b[0m \u001b[0;32mfor\u001b[0m \u001b[0mi\u001b[0m \u001b[0;32min\u001b[0m \u001b[0mcbduration6\u001b[0m\u001b[0;34m]\u001b[0m\u001b[0;34m\u001b[0m\u001b[0;34m\u001b[0m\u001b[0m\n\u001b[1;32m      3\u001b[0m \u001b[0mgraph\u001b[0m\u001b[0;34m(\u001b[0m\u001b[0mcbduration6_ms\u001b[0m\u001b[0;34m,\u001b[0m\u001b[0mtitle\u001b[0m\u001b[0;34m)\u001b[0m\u001b[0;34m\u001b[0m\u001b[0;34m\u001b[0m\u001b[0m\n\u001b[1;32m      4\u001b[0m \u001b[0mlen\u001b[0m\u001b[0;34m(\u001b[0m\u001b[0mcbduration6\u001b[0m\u001b[0;34m)\u001b[0m\u001b[0;34m\u001b[0m\u001b[0;34m\u001b[0m\u001b[0m\n",
      "\u001b[0;32m<ipython-input-18-967b202a8d21>\u001b[0m in \u001b[0;36mcbd\u001b[0;34m(node, topic, title)\u001b[0m\n\u001b[1;32m     98\u001b[0m     \u001b[0mE\u001b[0m \u001b[0;34m=\u001b[0m \u001b[0ml\u001b[0m\u001b[0;34m.\u001b[0m\u001b[0mindex\u001b[0m\u001b[0;34m(\u001b[0m\u001b[0mHEADER_PUBLISHERS_E\u001b[0m\u001b[0;34m)\u001b[0m\u001b[0;34m\u001b[0m\u001b[0;34m\u001b[0m\u001b[0m\n\u001b[1;32m     99\u001b[0m     \u001b[0mnode\u001b[0m \u001b[0;34m=\u001b[0m \u001b[0;34m[\u001b[0m\u001b[0mline\u001b[0m \u001b[0;32mfor\u001b[0m \u001b[0mline\u001b[0m \u001b[0;32min\u001b[0m \u001b[0ml\u001b[0m\u001b[0;34m[\u001b[0m\u001b[0mS\u001b[0m\u001b[0;34m:\u001b[0m\u001b[0mE\u001b[0m\u001b[0;34m]\u001b[0m \u001b[0;32mif\u001b[0m \u001b[0mnode\u001b[0m \u001b[0;32min\u001b[0m \u001b[0mline\u001b[0m\u001b[0;34m]\u001b[0m\u001b[0;34m\u001b[0m\u001b[0;34m\u001b[0m\u001b[0m\n\u001b[0;32m--> 100\u001b[0;31m     \u001b[0mnodename\u001b[0m\u001b[0;34m=\u001b[0m \u001b[0mnode\u001b[0m\u001b[0;34m[\u001b[0m\u001b[0;36m0\u001b[0m\u001b[0;34m]\u001b[0m\u001b[0;34m.\u001b[0m\u001b[0msplit\u001b[0m\u001b[0;34m(\u001b[0m\u001b[0;34m)\u001b[0m\u001b[0;34m[\u001b[0m\u001b[0;36m4\u001b[0m\u001b[0;34m]\u001b[0m\u001b[0;34m\u001b[0m\u001b[0;34m\u001b[0m\u001b[0m\n\u001b[0m\u001b[1;32m    101\u001b[0m     \u001b[0mnodeh\u001b[0m\u001b[0;34m=\u001b[0m \u001b[0mnode\u001b[0m\u001b[0;34m[\u001b[0m\u001b[0;36m0\u001b[0m\u001b[0;34m]\u001b[0m\u001b[0;34m.\u001b[0m\u001b[0msplit\u001b[0m\u001b[0;34m(\u001b[0m\u001b[0;34m)\u001b[0m\u001b[0;34m[\u001b[0m\u001b[0;36m0\u001b[0m\u001b[0;34m]\u001b[0m\u001b[0;34m\u001b[0m\u001b[0;34m\u001b[0m\u001b[0m\n\u001b[1;32m    102\u001b[0m     \u001b[0mS\u001b[0m \u001b[0;34m=\u001b[0m \u001b[0ml\u001b[0m\u001b[0;34m.\u001b[0m\u001b[0mindex\u001b[0m\u001b[0;34m(\u001b[0m\u001b[0mHEADER_SUBSCRIBERS_S\u001b[0m\u001b[0;34m)\u001b[0m\u001b[0;34m\u001b[0m\u001b[0;34m\u001b[0m\u001b[0m\n",
      "\u001b[0;31mIndexError\u001b[0m: list index out of range"
     ]
    }
   ],
   "source": [
    "cbduration6,title = cbd(node_ssc,topic_joy_acc)\n",
    "cbduration6_ms=[i/1000 for i in cbduration6]\n",
    "graph(cbduration6_ms,title)\n",
    "len(cbduration6)"
   ]
  },
  {
   "cell_type": "code",
   "execution_count": null,
   "metadata": {},
   "outputs": [],
   "source": [
    "comlatency67=com_latency(cb6,cb7)\n",
    "title='node6-7 com latency'\n",
    "comlatency67_ms=[i/1000 for i in comlatency67]\n",
    "graph(comlatency67_ms,title)\n",
    "len(comlatency67)"
   ]
  },
  {
   "cell_type": "code",
   "execution_count": null,
   "metadata": {},
   "outputs": [],
   "source": [
    "cbduration7,title = cbd(node7,topic7)\n",
    "cbduration7_ms=[i/1000 for i in cbduration7]\n",
    "graph(cbduration7_ms,title)\n",
    "len(cbduration7)"
   ]
  },
  {
   "cell_type": "code",
   "execution_count": null,
   "metadata": {},
   "outputs": [],
   "source": [
    "comlatency78=com_latency(cb7,cb8)\n",
    "title='node7-8 com latency'\n",
    "comlatency78_ms=[i/1000 for i in comlatency78]\n",
    "graph(comlatency78_ms,title)\n",
    "len(comlatency78)"
   ]
  },
  {
   "cell_type": "code",
   "execution_count": null,
   "metadata": {},
   "outputs": [],
   "source": [
    "cbduration8,title = cbd(node8,topic8)\n",
    "cbduration8_ms=[i/1000 for i in cbduration8]\n",
    "graph(cbduration8_ms,title)\n",
    "len(cbduration8)"
   ]
  },
  {
   "cell_type": "code",
   "execution_count": null,
   "metadata": {},
   "outputs": [],
   "source": [
    "comlatency89=com_latency(cb8,cb9)\n",
    "title='node8-9 com latency'\n",
    "comlatency89_ms=[i/1000 for i in comlatency89]\n",
    "graph(comlatency89_ms,title)\n",
    "len(comlatency89)"
   ]
  },
  {
   "cell_type": "code",
   "execution_count": null,
   "metadata": {},
   "outputs": [],
   "source": [
    "cbduration9,title = cbd(node9,topic9)\n",
    "cbduration9_ms=[i/1000 for i in cbduration9]\n",
    "graph(cbduration9_ms,title)\n",
    "len(cbduration9)"
   ]
  },
  {
   "cell_type": "code",
   "execution_count": null,
   "metadata": {},
   "outputs": [],
   "source": [
    "comlatency910=com_latency(cb9,cb10)\n",
    "title='node9-10 com latency'\n",
    "comlatency910_ms=[i/1000 for i in comlatency910]\n",
    "graph(comlatency910_ms,title)\n",
    "len(comlatency910)"
   ]
  },
  {
   "cell_type": "code",
   "execution_count": null,
   "metadata": {},
   "outputs": [],
   "source": [
    "cbduration10,title = cbd(node10,topic10)\n",
    "cbduration10_ms=[i/1000 for i in cbduration10]\n",
    "graph(cbduration10_ms,title)\n",
    "len(cbduration10)"
   ]
  },
  {
   "cell_type": "code",
   "execution_count": null,
   "metadata": {},
   "outputs": [],
   "source": [
    "comlatency1011=com_latency(cb10,cb11)\n",
    "title='node10-11 com latency'\n",
    "comlatency1011_ms=[i/1000 for i in comlatency1011]\n",
    "graph(comlatency1011_ms,title)\n",
    "len(comlatency1011_ms)"
   ]
  },
  {
   "cell_type": "code",
   "execution_count": null,
   "metadata": {},
   "outputs": [],
   "source": [
    "cbduration11,title = cbd(node11,topic11)\n",
    "cbduration11_ms=[i/1000 for i in cbduration11]\n",
    "graph(cbduration11_ms,title)\n",
    "len(cbduration11)"
   ]
  },
  {
   "cell_type": "code",
   "execution_count": null,
   "metadata": {},
   "outputs": [],
   "source": [
    "comlatency1112=com_latency(cb11,cb12)\n",
    "title='node11-12 com latency'\n",
    "comlatency1112_ms=[i/1000 for i in comlatency1112]\n",
    "graph(comlatency1112_ms,title)\n",
    "len(comlatency1112)"
   ]
  },
  {
   "cell_type": "code",
   "execution_count": null,
   "metadata": {},
   "outputs": [],
   "source": [
    "cbduration12,title = cbd(node12,topic12)\n",
    "cbduration12_ms=[i/1000 for i in cbduration12]\n",
    "graph(cbduration12_ms,title)\n",
    "len(cbduration12)"
   ]
  },
  {
   "cell_type": "code",
   "execution_count": null,
   "metadata": {},
   "outputs": [],
   "source": [
    "comlatency1213=com_latency(cb12,cb13)\n",
    "title='node12-13 com latency'\n",
    "comlatency1213_ms=[i/1000 for i in comlatency1213]\n",
    "graph(comlatency1213_ms,title)\n",
    "len(comlatency1213)"
   ]
  },
  {
   "cell_type": "code",
   "execution_count": null,
   "metadata": {},
   "outputs": [],
   "source": [
    "cbduration13,title = cbd(node13,topic13)\n",
    "cbduration13_ms=[i/1000 for i in cbduration13]\n",
    "graph(cbduration13_ms,title)\n",
    "len(cbduration13)"
   ]
  },
  {
   "cell_type": "code",
   "execution_count": null,
   "metadata": {},
   "outputs": [],
   "source": [
    "comlatency1314=com_latency(cb13,cb14)\n",
    "title='node13-14 com latency'\n",
    "comlatency1314_ms=[i/1000 for i in comlatency1314]\n",
    "graph(comlatency1314_ms,title)\n",
    "len(comlatency1314)"
   ]
  },
  {
   "cell_type": "code",
   "execution_count": null,
   "metadata": {},
   "outputs": [],
   "source": [
    "cbduration14,title = cbd(node14,topic14)\n",
    "cbduration14_ms=[i/1000 for i in cbduration14]\n",
    "graph(cbduration14_ms,title)\n",
    "len(cbduration14)"
   ]
  },
  {
   "cell_type": "code",
   "execution_count": null,
   "metadata": {},
   "outputs": [],
   "source": [
    "comlatency1415=com_latency(cb14,cb15)\n",
    "title='node14-15 com latency'\n",
    "comlatency1415_ms=[i/1000 for i in comlatency1415]\n",
    "graph(comlatency1415_ms,title)\n",
    "len(comlatency1415)"
   ]
  },
  {
   "cell_type": "code",
   "execution_count": null,
   "metadata": {},
   "outputs": [],
   "source": [
    "cbduration15,title = cbd(node15,topic15)\n",
    "cbduration15_ms=[i/1000 for i in cbduration15]\n",
    "graph(cbduration15_ms,title)\n",
    "len(cbduration15)"
   ]
  },
  {
   "cell_type": "code",
   "execution_count": null,
   "metadata": {},
   "outputs": [],
   "source": [
    "comlatency1516=com_latency(cb15,cb16)\n",
    "title='node15-16 com latency'\n",
    "comlatency1516_ms=[i/1000 for i in comlatency1516]\n",
    "graph(comlatency1516_ms,title)\n",
    "len(comlatency1516)"
   ]
  },
  {
   "cell_type": "code",
   "execution_count": null,
   "metadata": {},
   "outputs": [],
   "source": [
    "cbduration16,title = cbd(node16,topic16)\n",
    "cbduration16_ms=[i/1000 for i in cbduration16]\n",
    "graph(cbduration16_ms,title)\n",
    "len(cbduration16)"
   ]
  },
  {
   "cell_type": "code",
   "execution_count": null,
   "metadata": {},
   "outputs": [],
   "source": [
    "# n1 = [int(cbduration1[i]+cbduration2[i]+cbduration3[i]+cbduration4[i]+cbduration5[i]+cbduration8[i]+cbduration9[i]+cbduration10[i]+cbduration11[i]+cbduration12[i]+cbduration13[i]+cbduration14[i]+cbduration15[i]) for i in range(min(len(cbduration1),len(cbduration2),len(cbduration3),len(cbduration4),len(cbduration5),len(cbduration8),len(cbduration9),len(cbduration10),len(cbduration11),len(cbduration12),len(cbduration13),len(cbduration14),len(cbduration15)))]\n",
    "# c1 = [int(comlatency12[i]+comlatency23[i]+comlatency34[i]+comlatency45[i]+comlatency56[i]+comlatency78[i]+comlatency89[i]+comlatency910[i]+comlatency1011[i]+comlatency1112[i]+comlatency1213[i]+comlatency1314[i]+comlatency1415[i]+comlatency1516[i]) for i in range(min(len(comlatency12),len(comlatency23),len(comlatency34),len(comlatency45),len(comlatency56),len(comlatency78),len(comlatency89),len(comlatency910),len(comlatency1011),len(comlatency1112),len(comlatency1213),len(comlatency1314),len(comlatency1415),len(comlatency1516)))]\n",
    "# p1 = [int(n1[i]+c1[i]) for i in range(min(len(n1),len(c1)))]\n",
    "\n",
    "# n2 = [int(cbduration6[i]+cbduration7[i]+cbduration16[i]) for i in range(min(len(cbduration6),len(cbduration7),len(cbduration16)))]\n",
    "# c2 = [int(comlatency67[i]) for i in range(len(comlatency67))]\n",
    "# p2 = [int(n2[i]+c2[i]) for i in range(min(len(n2),len(c2)))]\n",
    "\n",
    "n1 = [int(cbduration1[i]+cbduration2[i]+cbduration3[i]) for i in range(min(len(cbduration1),len(cbduration2),len(cbduration3)))]\n",
    "c1 = [int(comlatency12[i]+comlatency23[i]) for i in range(min(len(comlatency12),len(comlatency23)))]\n",
    "p1 = [int(n1[i]+c1[i]) for i in range(min(len(n1),len(c1)))]\n",
    "\n",
    "n2 = [int(cbduration6[i]+cbduration5[i]+cbduration4[i]) for i in range(min(len(cbduration6),len(cbduration5),len(cbduration4)))]\n",
    "c2 = [int(comlatency45[i]) for i in range(len(comlatency45))]\n",
    "p2 = [int(n2[i]+c2[i]) for i in range(min(len(n2),len(c2)))]"
   ]
  },
  {
   "cell_type": "code",
   "execution_count": null,
   "metadata": {},
   "outputs": [
    {
     "data": {
      "image/png": "[encoded data removed]",
      "text/plain": [
       "<Figure size 432x288 with 1 Axes>"
      ]
     },
     "metadata": {
      "needs_background": "light"
     },
     "output_type": "display_data"
    }
   ],
   "source": [
    "# convolution integral\n",
    "import numpy as np\n",
    "import matplotlib.pyplot as plt\n",
    "def convo(p1,p2):\n",
    "    bin=50\n",
    "    x1= np.arange(bin, max(p1) + bin, bin)\n",
    "    #print(x1,len(x1))\n",
    "    x2= np.arange(bin, max(p2) + bin, bin)\n",
    "    #print(x2,len(x2))\n",
    "    if len(x1) > len(x2):\n",
    "        x=x1\n",
    "    else:\n",
    "        x=x2\n",
    "    \n",
    "    #P1\n",
    "    P1=[]\n",
    "    for i in x:\n",
    "        l=0\n",
    "        for j in p1:\n",
    "            if (j < i)&(j > i-bin):\n",
    "                l+=1\n",
    "        l/= len(p1)\n",
    "        P1.append(l)\n",
    "\n",
    "    #P2\n",
    "    P2=[]\n",
    "    for i in x:\n",
    "        l=0\n",
    "        for j in p2:\n",
    "            if (j < i)&(j > i-bin):\n",
    "                l+=1\n",
    "        l/= len(p2)\n",
    "        P2.append(l)\n",
    "    \n",
    "    #P1+P2\n",
    "    P = [] \n",
    "    for i in range(len(x)):\n",
    "        p12 = 0\n",
    "        for t in range(i):\n",
    "            p12+= P1[t]*(P2[i-t] + P2[i-t-1])/2.0        \n",
    "        P.append(p12)\n",
    "    return x,P\n",
    "\n",
    "x,p=convo(p1,p2)\n",
    "x_ms=[i/1000 for i in x]\n",
    "m=[]\n",
    "j=0\n",
    "for i in p:\n",
    "    j+=50\n",
    "    if i > 0:\n",
    "        m.append(j)\n",
    "maxinum=max(m)/1000\n",
    "\n",
    "fig, ax = plt.subplots(1, 1)\n",
    "ax.xaxis.set_major_formatter(plt.FuncFormatter(lambda x, loc: \"{:,}\".format(int(x))))\n",
    "plt.title('End-to-end latency')\n",
    "plt.xlabel('Latency [ms]')\n",
    "plt.ylabel('Distribution')\n",
    "plt.bar(x_ms,p,label='max:{:.02f}ms'.format(maxinum))\n",
    "plt.legend()\n",
    "filename = dirname + \"e2elatency.pdf\"\n",
    "plt.savefig(filename)"
   ]
  },
  {
   "cell_type": "code",
   "execution_count": null,
   "metadata": {},
   "outputs": [],
   "source": [
    "# a=0\n",
    "# for i in p:\n",
    "#     a+=i\n",
    "# r=int(100000/50)\n",
    "# k=0\n",
    "# for i in range(r):\n",
    "#     k+=p[i]\n",
    "# k/a"
   ]
  },
  {
   "cell_type": "code",
   "execution_count": null,
   "metadata": {
    "scrolled": true
   },
   "outputs": [
    {
     "name": "stdout",
     "output_type": "stream",
     "text": [
      "/global_parameters_node/get_parameters\n",
      "/global_parameters_node/get_parameters\n",
      "/global_parameters_node/get_parameters\n",
      "/global_parameters_node/get_parameters\n",
      "/global_parameters_node/get_parameters\n",
      "/global_parameters_node/get_parameters\n",
      "/global_parameters_node/get_parameters\n",
      "/global_parameters_node/get_parameters\n",
      "/global_parameters_node/get_parameters\n",
      "/global_parameters_node/get_parameter_types\n",
      "/global_parameters_node/get_parameter_types\n",
      "/global_parameters_node/get_parameter_types\n",
      "/global_parameters_node/get_parameter_types\n",
      "/global_parameters_node/get_parameter_types\n",
      "/global_parameters_node/get_parameter_types\n",
      "/global_parameters_node/get_parameter_types\n",
      "/global_parameters_node/get_parameter_types\n",
      "/global_parameters_node/get_parameter_types\n",
      "/global_parameters_node/set_parameters\n",
      "/global_parameters_node/set_parameters\n",
      "/global_parameters_node/set_parameters\n",
      "/global_parameters_node/set_parameters\n",
      "/global_parameters_node/set_parameters\n",
      "/global_parameters_node/set_parameters\n",
      "/global_parameters_node/set_parameters\n",
      "/global_parameters_node/set_parameters\n",
      "/global_parameters_node/set_parameters\n",
      "/global_parameters_node/set_parameters_atomically\n",
      "/global_parameters_node/set_parameters_atomically\n",
      "/global_parameters_node/set_parameters_atomically\n",
      "/global_parameters_node/set_parameters_atomically\n",
      "/global_parameters_node/set_parameters_atomically\n",
      "/global_parameters_node/set_parameters_atomically\n",
      "/global_parameters_node/set_parameters_atomically\n",
      "/global_parameters_node/set_parameters_atomically\n",
      "/global_parameters_node/set_parameters_atomically\n",
      "/global_parameters_node/describe_parameters\n",
      "/global_parameters_node/describe_parameters\n",
      "/global_parameters_node/describe_parameters\n",
      "/global_parameters_node/describe_parameters\n",
      "/global_parameters_node/describe_parameters\n",
      "/global_parameters_node/describe_parameters\n",
      "/global_parameters_node/describe_parameters\n",
      "/global_parameters_node/describe_parameters\n",
      "/global_parameters_node/describe_parameters\n",
      "/global_parameters_node/list_parameters\n",
      "/global_parameters_node/list_parameters\n",
      "/global_parameters_node/list_parameters\n",
      "/global_parameters_node/list_parameters\n",
      "/global_parameters_node/list_parameters\n",
      "/global_parameters_node/list_parameters\n",
      "/global_parameters_node/list_parameters\n",
      "/global_parameters_node/list_parameters\n",
      "/global_parameters_node/list_parameters\n",
      "/system_status_manager/register\n",
      "/system_status_manager/register\n",
      "/system_status_manager/register\n",
      "/system_status_manager/register\n",
      "/system_status_manager/register\n",
      "/system_status_manager/register\n",
      "/system_status_manager/register\n",
      "/system_status_manager/register\n",
      "/system_status_manager/register\n"
     ]
    }
   ],
   "source": [
    "#service pair\n",
    "def pair():\n",
    "    path = path_tracelog\n",
    "    f = open(path)\n",
    "    f.close()\n",
    "    with open(path) as f:\n",
    "        l = f.readlines()\n",
    "    S = l.index('Services:\\n')\n",
    "    E = l.index('Clients:\\n')\n",
    "    service_sn=[]\n",
    "    for i in l[S+3:E-1]:\n",
    "        service_sn.append(i.split()[4])\n",
    "    #print(set(service_sn))\n",
    "    \n",
    "    path = path_tracelog\n",
    "    f = open(path)\n",
    "    f.close()\n",
    "    with open(path) as f:\n",
    "        l = f.readlines()\n",
    "    S = l.index('Clients:\\n')\n",
    "    E = l.index('Timers:\\n')\n",
    "    client_sn=[]\n",
    "    for i in l[S+3:E-1]:\n",
    "        client_sn.append(i.split()[4])\n",
    "    #print(set(client_sn))\n",
    "    \n",
    "    for i in service_sn:\n",
    "        for j in client_sn:\n",
    "            if i == j:\n",
    "                print(i)\n",
    "pair()"
   ]
  },
  {
   "cell_type": "code",
   "execution_count": null,
   "metadata": {},
   "outputs": [
    {
     "name": "stdout",
     "output_type": "stream",
     "text": [
      "0.457595 ms\n",
      "0.098856 ms\n",
      "2.279915 ms\n",
      "2.836366 ms\n"
     ]
    }
   ],
   "source": [
    "#service latency\n",
    "client_req = 837111312\n",
    "service_req= 837568907\n",
    "service_res= 837667763\n",
    "client_res = 839947678\n",
    "\n",
    "requestlatency=(service_req-client_req)/1000000\n",
    "servicecallback=(service_res-service_req)/1000000\n",
    "responselatency=(client_res-service_res)/1000000\n",
    "servicelatency=requestlatency+servicecallback+responselatency\n",
    "print(requestlatency,'ms')\n",
    "print(servicecallback,'ms')\n",
    "print(responselatency,'ms')\n",
    "print(servicelatency,'ms')"
   ]
  }
 ],
 "metadata": {
  "celltoolbar": "Raw Cell Format",
  "interpreter": {
   "hash": "31f2aee4e71d21fbe5cf8b01ff0e069b9275f58929596ceb00d14d90e3e16cd6"
  },
  "kernelspec": {
   "display_name": "Python 3",
   "language": "python",
   "name": "python3"
  },
  "language_info": {
   "codemirror_mode": {
    "name": "ipython",
    "version": 3
   },
   "file_extension": ".py",
   "mimetype": "text/x-python",
   "name": "python",
   "nbconvert_exporter": "python",
   "pygments_lexer": "ipython3",
   "version": "3.8.10"
  }
 },
 "nbformat": 4,
 "nbformat_minor": 4
}
